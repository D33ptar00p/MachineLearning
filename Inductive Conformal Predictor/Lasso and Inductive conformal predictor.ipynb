{
 "cells": [
  {
   "cell_type": "markdown",
   "metadata": {},
   "source": [
    "# Lasso and Inductive conformal predictor"
   ]
  },
  {
   "cell_type": "code",
   "execution_count": 1,
   "metadata": {},
   "outputs": [],
   "source": [
    "#Importing modules\n",
    "import numpy as np\n",
    "import math\n",
    "import matplotlib.pyplot as plt"
   ]
  },
  {
   "cell_type": "markdown",
   "metadata": {},
   "source": [
    "Loading Diabetes Dataset from Sklearn"
   ]
  },
  {
   "cell_type": "code",
   "execution_count": 2,
   "metadata": {},
   "outputs": [
    {
     "name": "stdout",
     "output_type": "stream",
     "text": [
      ".. _diabetes_dataset:\n",
      "\n",
      "Diabetes dataset\n",
      "----------------\n",
      "\n",
      "Ten baseline variables, age, sex, body mass index, average blood\n",
      "pressure, and six blood serum measurements were obtained for each of n =\n",
      "442 diabetes patients, as well as the response of interest, a\n",
      "quantitative measure of disease progression one year after baseline.\n",
      "\n",
      "**Data Set Characteristics:**\n",
      "\n",
      "  :Number of Instances: 442\n",
      "\n",
      "  :Number of Attributes: First 10 columns are numeric predictive values\n",
      "\n",
      "  :Target: Column 11 is a quantitative measure of disease progression one year after baseline\n",
      "\n",
      "  :Attribute Information:\n",
      "      - age     age in years\n",
      "      - sex\n",
      "      - bmi     body mass index\n",
      "      - bp      average blood pressure\n",
      "      - s1      tc, T-Cells (a type of white blood cells)\n",
      "      - s2      ldl, low-density lipoproteins\n",
      "      - s3      hdl, high-density lipoproteins\n",
      "      - s4      tch, thyroid stimulating hormone\n",
      "      - s5      ltg, lamotrigine\n",
      "      - s6      glu, blood sugar level\n",
      "\n",
      "Note: Each of these 10 feature variables have been mean centered and scaled by the standard deviation times `n_samples` (i.e. the sum of squares of each column totals 1).\n",
      "\n",
      "Source URL:\n",
      "https://www4.stat.ncsu.edu/~boos/var.select/diabetes.html\n",
      "\n",
      "For more information see:\n",
      "Bradley Efron, Trevor Hastie, Iain Johnstone and Robert Tibshirani (2004) \"Least Angle Regression,\" Annals of Statistics (with discussion), 407-499.\n",
      "(https://web.stanford.edu/~hastie/Papers/LARS/LeastAngle_2002.pdf)\n"
     ]
    }
   ],
   "source": [
    "from sklearn.datasets import load_diabetes\n",
    "diabetes = load_diabetes()\n",
    "print(diabetes.DESCR)"
   ]
  },
  {
   "cell_type": "markdown",
   "metadata": {},
   "source": [
    "Splitting the data into Traning and test set with random state "
   ]
  },
  {
   "cell_type": "code",
   "execution_count": 3,
   "metadata": {},
   "outputs": [],
   "source": [
    "#Splitting the data into Traning and test set with random state DDMM\n",
    "from sklearn.model_selection import train_test_split\n",
    "X_train, X_test, y_train, y_test = train_test_split(diabetes.data, diabetes.target,random_state=100)"
   ]
  },
  {
   "cell_type": "code",
   "execution_count": 4,
   "metadata": {},
   "outputs": [
    {
     "data": {
      "text/plain": [
       "(331, 10)"
      ]
     },
     "execution_count": 4,
     "metadata": {},
     "output_type": "execute_result"
    }
   ],
   "source": [
    "np.shape(X_train)"
   ]
  },
  {
   "cell_type": "code",
   "execution_count": 5,
   "metadata": {},
   "outputs": [
    {
     "data": {
      "text/plain": [
       "(111, 10)"
      ]
     },
     "execution_count": 5,
     "metadata": {},
     "output_type": "execute_result"
    }
   ],
   "source": [
    "np.shape(X_test)"
   ]
  },
  {
   "cell_type": "markdown",
   "metadata": {},
   "source": [
    "# Applying Lasso"
   ]
  },
  {
   "cell_type": "code",
   "execution_count": 6,
   "metadata": {},
   "outputs": [],
   "source": [
    "from sklearn.linear_model import Lasso\n",
    "lasso = Lasso().fit(X_train,y_train)"
   ]
  },
  {
   "cell_type": "code",
   "execution_count": 7,
   "metadata": {},
   "outputs": [
    {
     "data": {
      "text/plain": [
       "array([  0.        ,   0.        , 346.25989818,  76.4912648 ,\n",
       "         0.        ,   0.        ,  -4.53700643,   0.        ,\n",
       "       304.60712921,   0.        ])"
      ]
     },
     "execution_count": 7,
     "metadata": {},
     "output_type": "execute_result"
    }
   ],
   "source": [
    "lasso.coef_"
   ]
  },
  {
   "cell_type": "code",
   "execution_count": 8,
   "metadata": {},
   "outputs": [
    {
     "name": "stdout",
     "output_type": "stream",
     "text": [
      "Training R Square:  0.3710490118794657\n",
      "Test R Square:  0.32847652173697683\n"
     ]
    }
   ],
   "source": [
    "print(\"Training R Square: \", lasso.score(X_train,y_train))\n",
    "print(\"Test R Square: \",lasso.score(X_test,y_test))"
   ]
  },
  {
   "cell_type": "code",
   "execution_count": 9,
   "metadata": {},
   "outputs": [
    {
     "name": "stdout",
     "output_type": "stream",
     "text": [
      "Number of features used in the model: 4\n"
     ]
    }
   ],
   "source": [
    "print(\"Number of features used in the model:\",np.sum(lasso.coef_!= 0))"
   ]
  },
  {
   "cell_type": "code",
   "execution_count": 10,
   "metadata": {},
   "outputs": [
    {
     "name": "stdout",
     "output_type": "stream",
     "text": [
      "The features used are:\n",
      "\n",
      "bmi\n",
      "bp\n",
      "s3\n",
      "s5\n"
     ]
    }
   ],
   "source": [
    "print(\"The features used are:\\n\")\n",
    "index = np.where(lasso.coef_ != 0)[0]\n",
    "for i in index:\n",
    "    print(diabetes.feature_names[i])\n"
   ]
  },
  {
   "cell_type": "markdown",
   "metadata": {},
   "source": [
    "Loading Original Diabetes Dataset"
   ]
  },
  {
   "cell_type": "code",
   "execution_count": 11,
   "metadata": {},
   "outputs": [
    {
     "data": {
      "text/plain": [
       "(443, 11)"
      ]
     },
     "execution_count": 11,
     "metadata": {},
     "output_type": "execute_result"
    }
   ],
   "source": [
    "diabetes_data = np.genfromtxt(\"diabetes.txt\", delimiter=\"\\t\")\n",
    "np.shape(diabetes_data)"
   ]
  },
  {
   "cell_type": "code",
   "execution_count": 12,
   "metadata": {},
   "outputs": [],
   "source": [
    "#Cleaning data to remove rows with NaN\n",
    "diabetes_data = diabetes_data[~np.isnan(diabetes_data).any(axis=1),:]"
   ]
  },
  {
   "cell_type": "code",
   "execution_count": 13,
   "metadata": {
    "scrolled": true
   },
   "outputs": [
    {
     "data": {
      "text/plain": [
       "array([[ 59.    ,   2.    ,  32.1   , ...,   4.8598,  87.    , 151.    ],\n",
       "       [ 48.    ,   1.    ,  21.6   , ...,   3.8918,  69.    ,  75.    ],\n",
       "       [ 72.    ,   2.    ,  30.5   , ...,   4.6728,  85.    , 141.    ],\n",
       "       ...,\n",
       "       [ 60.    ,   2.    ,  24.9   , ...,   4.1271,  95.    , 132.    ],\n",
       "       [ 36.    ,   1.    ,  30.    , ...,   5.1299,  85.    , 220.    ],\n",
       "       [ 36.    ,   1.    ,  19.6   , ...,   4.5951,  92.    ,  57.    ]])"
      ]
     },
     "execution_count": 13,
     "metadata": {},
     "output_type": "execute_result"
    }
   ],
   "source": [
    "diabetes_data"
   ]
  },
  {
   "cell_type": "code",
   "execution_count": 14,
   "metadata": {},
   "outputs": [
    {
     "data": {
      "text/plain": [
       "(442, 11)"
      ]
     },
     "execution_count": 14,
     "metadata": {},
     "output_type": "execute_result"
    }
   ],
   "source": [
    "np.shape(diabetes_data)"
   ]
  },
  {
   "cell_type": "code",
   "execution_count": 15,
   "metadata": {},
   "outputs": [],
   "source": [
    "#Splitting Data into features and targets\n",
    "data = diabetes_data[:,0:10]\n",
    "target = diabetes_data[:,10]"
   ]
  },
  {
   "cell_type": "code",
   "execution_count": 16,
   "metadata": {},
   "outputs": [
    {
     "data": {
      "text/plain": [
       "array([[59.    ,  2.    , 32.1   , ...,  4.    ,  4.8598, 87.    ],\n",
       "       [48.    ,  1.    , 21.6   , ...,  3.    ,  3.8918, 69.    ],\n",
       "       [72.    ,  2.    , 30.5   , ...,  4.    ,  4.6728, 85.    ],\n",
       "       ...,\n",
       "       [60.    ,  2.    , 24.9   , ...,  3.77  ,  4.1271, 95.    ],\n",
       "       [36.    ,  1.    , 30.    , ...,  4.79  ,  5.1299, 85.    ],\n",
       "       [36.    ,  1.    , 19.6   , ...,  3.    ,  4.5951, 92.    ]])"
      ]
     },
     "execution_count": 16,
     "metadata": {},
     "output_type": "execute_result"
    }
   ],
   "source": [
    "data"
   ]
  },
  {
   "cell_type": "code",
   "execution_count": 17,
   "metadata": {},
   "outputs": [
    {
     "data": {
      "text/plain": [
       "array([151.,  75., 141., 206., 135.,  97., 138.,  63., 110., 310., 101.,\n",
       "        69., 179., 185., 118., 171., 166., 144.,  97., 168.,  68.,  49.,\n",
       "        68., 245., 184., 202., 137.,  85., 131., 283., 129.,  59., 341.,\n",
       "        87.,  65., 102., 265., 276., 252.,  90., 100.,  55.,  61.,  92.,\n",
       "       259.,  53., 190., 142.,  75., 142., 155., 225.,  59., 104., 182.,\n",
       "       128.,  52.,  37., 170., 170.,  61., 144.,  52., 128.,  71., 163.,\n",
       "       150.,  97., 160., 178.,  48., 270., 202., 111.,  85.,  42., 170.,\n",
       "       200., 252., 113., 143.,  51.,  52., 210.,  65., 141.,  55., 134.,\n",
       "        42., 111.,  98., 164.,  48.,  96.,  90., 162., 150., 279.,  92.,\n",
       "        83., 128., 102., 302., 198.,  95.,  53., 134., 144., 232.,  81.,\n",
       "       104.,  59., 246., 297., 258., 229., 275., 281., 179., 200., 200.,\n",
       "       173., 180.,  84., 121., 161.,  99., 109., 115., 268., 274., 158.,\n",
       "       107.,  83., 103., 272.,  85., 280., 336., 281., 118., 317., 235.,\n",
       "        60., 174., 259., 178., 128.,  96., 126., 288.,  88., 292.,  71.,\n",
       "       197., 186.,  25.,  84.,  96., 195.,  53., 217., 172., 131., 214.,\n",
       "        59.,  70., 220., 268., 152.,  47.,  74., 295., 101., 151., 127.,\n",
       "       237., 225.,  81., 151., 107.,  64., 138., 185., 265., 101., 137.,\n",
       "       143., 141.,  79., 292., 178.,  91., 116.,  86., 122.,  72., 129.,\n",
       "       142.,  90., 158.,  39., 196., 222., 277.,  99., 196., 202., 155.,\n",
       "        77., 191.,  70.,  73.,  49.,  65., 263., 248., 296., 214., 185.,\n",
       "        78.,  93., 252., 150.,  77., 208.,  77., 108., 160.,  53., 220.,\n",
       "       154., 259.,  90., 246., 124.,  67.,  72., 257., 262., 275., 177.,\n",
       "        71.,  47., 187., 125.,  78.,  51., 258., 215., 303., 243.,  91.,\n",
       "       150., 310., 153., 346.,  63.,  89.,  50.,  39., 103., 308., 116.,\n",
       "       145.,  74.,  45., 115., 264.,  87., 202., 127., 182., 241.,  66.,\n",
       "        94., 283.,  64., 102., 200., 265.,  94., 230., 181., 156., 233.,\n",
       "        60., 219.,  80.,  68., 332., 248.,  84., 200.,  55.,  85.,  89.,\n",
       "        31., 129.,  83., 275.,  65., 198., 236., 253., 124.,  44., 172.,\n",
       "       114., 142., 109., 180., 144., 163., 147.,  97., 220., 190., 109.,\n",
       "       191., 122., 230., 242., 248., 249., 192., 131., 237.,  78., 135.,\n",
       "       244., 199., 270., 164.,  72.,  96., 306.,  91., 214.,  95., 216.,\n",
       "       263., 178., 113., 200., 139., 139.,  88., 148.,  88., 243.,  71.,\n",
       "        77., 109., 272.,  60.,  54., 221.,  90., 311., 281., 182., 321.,\n",
       "        58., 262., 206., 233., 242., 123., 167.,  63., 197.,  71., 168.,\n",
       "       140., 217., 121., 235., 245.,  40.,  52., 104., 132.,  88.,  69.,\n",
       "       219.,  72., 201., 110.,  51., 277.,  63., 118.,  69., 273., 258.,\n",
       "        43., 198., 242., 232., 175.,  93., 168., 275., 293., 281.,  72.,\n",
       "       140., 189., 181., 209., 136., 261., 113., 131., 174., 257.,  55.,\n",
       "        84.,  42., 146., 212., 233.,  91., 111., 152., 120.,  67., 310.,\n",
       "        94., 183.,  66., 173.,  72.,  49.,  64.,  48., 178., 104., 132.,\n",
       "       220.,  57.])"
      ]
     },
     "execution_count": 17,
     "metadata": {},
     "output_type": "execute_result"
    }
   ],
   "source": [
    "target"
   ]
  },
  {
   "cell_type": "code",
   "execution_count": 18,
   "metadata": {},
   "outputs": [
    {
     "data": {
      "text/plain": [
       "array([ 2.42653311e-02, -1.35924389e+01,  5.50062928e+00,  1.20005306e+00,\n",
       "        9.40908221e-02, -3.56641737e-01, -1.29039416e+00,  1.00059449e+00,\n",
       "        3.51011020e+01,  5.50839076e-01])"
      ]
     },
     "execution_count": 18,
     "metadata": {},
     "output_type": "execute_result"
    }
   ],
   "source": [
    "#Splitting the data into Training and test set with random state\n",
    "X_train, X_test, y_train, y_test = train_test_split(data, target,random_state=100)\n",
    "lasso1 = Lasso().fit(X_train,y_train)\n",
    "lasso1.coef_"
   ]
  },
  {
   "cell_type": "code",
   "execution_count": 19,
   "metadata": {},
   "outputs": [
    {
     "name": "stdout",
     "output_type": "stream",
     "text": [
      "Training R Square:  0.537308531659811\n",
      "Test R Square:  0.3626403051692718\n"
     ]
    }
   ],
   "source": [
    "print(\"Training R Square: \",lasso1.score(X_train,y_train))\n",
    "print(\"Test R Square: \",lasso1.score(X_test,y_test))"
   ]
  },
  {
   "cell_type": "code",
   "execution_count": 20,
   "metadata": {},
   "outputs": [
    {
     "name": "stdout",
     "output_type": "stream",
     "text": [
      "Number of features used in the model: 10\n"
     ]
    }
   ],
   "source": [
    "print(\"Number of features used in the model:\",np.sum(lasso1.coef_!= 0))"
   ]
  },
  {
   "cell_type": "code",
   "execution_count": 21,
   "metadata": {},
   "outputs": [
    {
     "name": "stdout",
     "output_type": "stream",
     "text": [
      "The features used are:\n",
      "\n",
      "age\n",
      "sex\n",
      "bmi\n",
      "bp\n",
      "s1\n",
      "s2\n",
      "s3\n",
      "s4\n",
      "s5\n",
      "s6\n"
     ]
    }
   ],
   "source": [
    "print(\"The features used are:\\n\")\n",
    "index = np.where(lasso1.coef_ != 0)[0]\n",
    "for i in index:\n",
    "    print(diabetes.feature_names[i])"
   ]
  },
  {
   "cell_type": "markdown",
   "metadata": {},
   "source": [
    "Applying Lasso on the original dataset we observe that more coefficients are used and both training and test R square are better than the lasso on sklearn dataset."
   ]
  },
  {
   "cell_type": "markdown",
   "metadata": {},
   "source": [
    "# Preprocessing Data using Standard scalar"
   ]
  },
  {
   "cell_type": "code",
   "execution_count": 22,
   "metadata": {},
   "outputs": [],
   "source": [
    "#Importing standard scalar\n",
    "from sklearn.preprocessing import StandardScaler\n",
    "scaler = StandardScaler()"
   ]
  },
  {
   "cell_type": "code",
   "execution_count": 23,
   "metadata": {},
   "outputs": [
    {
     "data": {
      "text/plain": [
       "StandardScaler()"
      ]
     },
     "execution_count": 23,
     "metadata": {},
     "output_type": "execute_result"
    }
   ],
   "source": [
    "#Fitting the scalar to traing set\n",
    "scaler.fit(X_train)"
   ]
  },
  {
   "cell_type": "code",
   "execution_count": 24,
   "metadata": {},
   "outputs": [],
   "source": [
    "# transforming training data\n",
    "X_train_scaled = scaler.transform(X_train)\n",
    "# transform test data\n",
    "X_test_scaled = scaler.transform(X_test)"
   ]
  },
  {
   "cell_type": "markdown",
   "metadata": {},
   "source": [
    "# Applying Lasso on Scalled Data"
   ]
  },
  {
   "cell_type": "code",
   "execution_count": 25,
   "metadata": {},
   "outputs": [
    {
     "data": {
      "text/plain": [
       "array([  0.        ,  -7.40103983,  23.77313789,  16.12716175,\n",
       "        -7.91410361,  -0.        , -11.53436498,   0.83425769,\n",
       "        24.70749331,   5.08513022])"
      ]
     },
     "execution_count": 25,
     "metadata": {},
     "output_type": "execute_result"
    }
   ],
   "source": [
    "lasso_scaled = Lasso().fit(X_train_scaled,y_train)\n",
    "lasso_scaled.coef_"
   ]
  },
  {
   "cell_type": "code",
   "execution_count": 26,
   "metadata": {},
   "outputs": [
    {
     "name": "stdout",
     "output_type": "stream",
     "text": [
      "Training R Square:  0.5401388610861284\n",
      "Test R Square:  0.3796442379645816\n"
     ]
    }
   ],
   "source": [
    "print(\"Training R Square: \",lasso_scaled.score(X_train_scaled,y_train))\n",
    "print(\"Test R Square: \",lasso_scaled.score(X_test_scaled,y_test))"
   ]
  },
  {
   "cell_type": "code",
   "execution_count": 27,
   "metadata": {},
   "outputs": [
    {
     "name": "stdout",
     "output_type": "stream",
     "text": [
      "Number of features used in the model: 8\n"
     ]
    }
   ],
   "source": [
    "print(\"Number of features used in the model:\",np.sum(lasso_scaled.coef_!= 0))"
   ]
  },
  {
   "cell_type": "code",
   "execution_count": 28,
   "metadata": {
    "scrolled": true
   },
   "outputs": [
    {
     "name": "stdout",
     "output_type": "stream",
     "text": [
      "The features used are:\n",
      "\n",
      "sex\n",
      "bmi\n",
      "bp\n",
      "s1\n",
      "s3\n",
      "s4\n",
      "s5\n",
      "s6\n"
     ]
    }
   ],
   "source": [
    "print(\"The features used are:\\n\")\n",
    "index = np.where(lasso_scaled.coef_ != 0)[0]\n",
    "for i in index:\n",
    "    print(diabetes.feature_names[i])"
   ]
  },
  {
   "cell_type": "markdown",
   "metadata": {},
   "source": [
    "Applying Lasso on Scaled original dataset we observe 8 features used in the model which is less than the nonscaled data, the test and training R square values have improved more. \n",
    "\n",
    "The result is more near to one obtained in task 6 and not 3. One possible reason may be that sklearn normalized data set is normalized as a whole whereas in task 8 we have done standard scaling based on the training data. Also the normalization method used which is different may be a contributing factor."
   ]
  },
  {
   "cell_type": "markdown",
   "metadata": {},
   "source": [
    "# Checking results of Varying Alpha"
   ]
  },
  {
   "cell_type": "code",
   "execution_count": 29,
   "metadata": {},
   "outputs": [],
   "source": [
    "results = np.zeros([16,2])\n",
    "alpha = [10**-4,10**-3,10**-2,10**-2,10**-1,1,5,10,15,20,25,30,35,40,45,50]\n",
    "row=0\n",
    "for i in alpha:\n",
    "    lassox = Lasso(alpha=i).fit(X_train_scaled,y_train)\n",
    "    results[row][0]= np.sum(lassox.coef_ != 0)\n",
    "    results[row][1]= lassox.score(X_test_scaled,y_test)    \n",
    "    row= row+1  "
   ]
  },
  {
   "cell_type": "code",
   "execution_count": 30,
   "metadata": {},
   "outputs": [
    {
     "data": {
      "text/plain": [
       "<matplotlib.legend.Legend at 0x165efe65e50>"
      ]
     },
     "execution_count": 30,
     "metadata": {},
     "output_type": "execute_result"
    },
    {
     "data": {
      "image/png": "[encoded data removed]",
      "text/plain": [
       "<Figure size 1440x720 with 1 Axes>"
      ]
     },
     "metadata": {
      "needs_background": "light"
     },
     "output_type": "display_data"
    }
   ],
   "source": [
    "import matplotlib.pyplot as plt \n",
    "color = [\"Violet\",\"indigo\",\"azure\",\"black\",\"Blue\",\"lightgreen\",\"Green\",\"Yellow\",\"Orange\",\"red\",\"crimson\",\"magenta\",\"cyan\",\"grey\",\"purple\",\"brown\",\"olive\"]\n",
    "plt.figure(figsize=[20,10])\n",
    "for i in range(0,16) :\n",
    "    plt.plot(results[i,0],results[i,1],c=color[i],marker='o',markersize=12,label=alpha[i])\n",
    "plt.xlabel(\"Number of Coefficients\")\n",
    "plt.ylabel(\"Test R Square\")\n",
    "plt.title(\"Change in Test R square and number of coefficents used for different values of alpha\")\n",
    "plt.grid(b=True)\n",
    "plt.legend()"
   ]
  },
  {
   "cell_type": "markdown",
   "metadata": {},
   "source": [
    "The highest value of Test R square is observed for alpha = 10 post which the R square value starts to decrease again. Hence alpha = 10 provides the best performing model for the test set. \n",
    "\n",
    "As the value of alpha increases the error rate decreases till a certain point and then again starts to increase. Is point is the one with highest R square and the point of best alpha/model."
   ]
  },
  {
   "cell_type": "code",
   "execution_count": 31,
   "metadata": {},
   "outputs": [
    {
     "name": "stdout",
     "output_type": "stream",
     "text": [
      "Alpha:  0.0001  Validation R Square:  0.4924585306870831\n",
      "Alpha:  0.001  Validation R Square:  0.49250441784216403\n",
      "Alpha:  0.01  Validation R Square:  0.49293398493641694\n",
      "Alpha:  0.01  Validation R Square:  0.49293398493641694\n",
      "Alpha:  0.1  Validation R Square:  0.4943550391900192\n",
      "Alpha:  1  Validation R Square:  0.49080208281549975\n",
      "Alpha:  5  Validation R Square:  0.4631195447408176\n",
      "Alpha:  10  Validation R Square:  0.4531294953969447\n",
      "Alpha:  15  Validation R Square:  0.42650549358866485\n",
      "Alpha:  20  Validation R Square:  0.38301643292027276\n",
      "Alpha:  25  Validation R Square:  0.32381362129132196\n",
      "Alpha:  30  Validation R Square:  0.2531500196934654\n",
      "Alpha:  35  Validation R Square:  0.16695692637390236\n",
      "Alpha:  40  Validation R Square:  0.06491839284696133\n",
      "Alpha:  45  Validation R Square:  -0.013251676035874294\n",
      "Alpha:  50  Validation R Square:  -0.01878781283167741\n",
      "\n",
      "Best parameter alpha: 0.1\n",
      "Number of parameters used: 10\n",
      "Training set R square with best parameters: 0.5445543623460898\n",
      "Test set R square with best parameters: 0.37577614048016017\n"
     ]
    }
   ],
   "source": [
    "X_train_pr, X_valid, y_train_pr, y_valid = train_test_split(X_train_scaled,y_train, random_state=1214)\n",
    "best_score = 0\n",
    "validated_results = np.zeros([16,2])\n",
    "alpha = [10**-4,10**-3,10**-2,10**-2,10**-1,1,5,10,15,20,25,30,35,40,45,50]\n",
    "for i in alpha:\n",
    "    lassox = Lasso(alpha=i).fit(X_train_pr,y_train_pr)\n",
    "    score = lassox.score(X_valid,y_valid)\n",
    "    print(\"Alpha: \",i,\" Validation R Square: \",score)\n",
    "    if score > best_score :\n",
    "        best_alpha = i\n",
    "        best_score = score\n",
    "lasso_best = Lasso(alpha=best_alpha).fit(X_train,y_train)\n",
    "train_score = lasso_best.score(X_train,y_train)\n",
    "test_score = lasso_best.score(X_test,y_test)\n",
    "print(\"\")\n",
    "print(\"Best parameter alpha:\", best_alpha)\n",
    "print(\"Number of parameters used:\", np.sum(lasso_best.coef_ != 0))\n",
    "print(\"Training set R square with best parameters:\", train_score) \n",
    "print(\"Test set R square with best parameters:\", test_score)       "
   ]
  },
  {
   "cell_type": "markdown",
   "metadata": {},
   "source": [
    "# Inductive Conformal Prediction"
   ]
  },
  {
   "cell_type": "code",
   "execution_count": 32,
   "metadata": {},
   "outputs": [],
   "source": [
    "#Spliting data into training and test sets\n",
    "X_train, X_test, y_train, y_test = train_test_split(data, target,random_state=1412)"
   ]
  },
  {
   "cell_type": "code",
   "execution_count": 33,
   "metadata": {},
   "outputs": [
    {
     "name": "stdout",
     "output_type": "stream",
     "text": [
      "Length of Calibration set is : 99\n"
     ]
    }
   ],
   "source": [
    "#Splitting training set into calibration set of 99 recocords and rest as training set proper\n",
    "X_train_calibration = X_train[0:99,:]\n",
    "y_train_calibration = y_train[0:99]\n",
    "X_train_pr = X_train[99:,:]\n",
    "y_train_pr = y_train[99:]\n",
    "print(\"Length of Calibration set is :\",len(X_train_calibration))"
   ]
  },
  {
   "cell_type": "code",
   "execution_count": 34,
   "metadata": {},
   "outputs": [
    {
     "data": {
      "text/plain": [
       "StandardScaler()"
      ]
     },
     "execution_count": 34,
     "metadata": {},
     "output_type": "execute_result"
    }
   ],
   "source": [
    "#Fitting the scaler to training set proper\n",
    "scaler.fit(X_train_pr)"
   ]
  },
  {
   "cell_type": "code",
   "execution_count": 35,
   "metadata": {},
   "outputs": [],
   "source": [
    "#Applying the scaling to both training sets and the test set\n",
    "X_train_pr_scaled = scaler.transform(X_train_pr)\n",
    "X_train_calibration_scaled = scaler.transform(X_train_calibration)\n",
    "X_test_scaled = scaler.transform(X_test)"
   ]
  },
  {
   "cell_type": "code",
   "execution_count": 36,
   "metadata": {},
   "outputs": [],
   "source": [
    "#Splitting the training set proper to proper and validation set for cross validation\n",
    "X_train_pr1, X_valid1, y_train_pr1, y_valid1 = train_test_split(X_train_pr_scaled,y_train_pr, random_state=1214)\n"
   ]
  },
  {
   "cell_type": "code",
   "execution_count": 37,
   "metadata": {},
   "outputs": [],
   "source": [
    "#Lasso with crossvalidation to decide the best alpha\n",
    "best_score = 0\n",
    "validated_results = np.zeros([16,2])\n",
    "alpha = [10**-4,10**-3,10**-2,10**-2,10**-1,1,5,10,15,20,25,30,35,40,45,50]\n",
    "for i in alpha:\n",
    "    lassox = Lasso(alpha=i).fit(X_train_pr1,y_train_pr1)\n",
    "    score = lassox.score(X_valid1,y_valid1)\n",
    "    if score > best_score :\n",
    "        best_alpha = i\n",
    "        best_score = score\n",
    "lasso_best = Lasso(alpha=best_alpha).fit(X_train_pr_scaled,y_train_pr)   "
   ]
  },
  {
   "cell_type": "code",
   "execution_count": 38,
   "metadata": {},
   "outputs": [
    {
     "name": "stdout",
     "output_type": "stream",
     "text": [
      "[  1.45570134   2.01353316   3.47484912   3.86676432   4.54871543\n",
      "   5.01763808   5.54076778   6.94674183   7.30879772   8.61883988\n",
      "  10.69123948  11.12310018  11.77170792  11.94160382  13.92874637\n",
      "  14.28687145  15.33753723  15.60608904  16.00481775  16.38738223\n",
      "  18.03617266  18.89514992  19.02852044  19.18619588  19.25838339\n",
      "  19.70227899  20.73207213  21.8684424   22.65219252  23.64701088\n",
      "  23.91516981  24.37456923  25.80664322  26.39374015  27.16124633\n",
      "  28.38187217  30.33668136  31.56920145  32.13123229  32.50336322\n",
      "  33.47954638  35.76776109  36.39756926  36.86975699  36.91535558\n",
      "  40.40476383  40.68867075  41.58102047  43.57516516  44.66207785\n",
      "  46.0852186   46.11046557  46.34737363  46.60030622  46.67559658\n",
      "  48.7924585   49.00308155  49.62548408  49.93499863  50.71186404\n",
      "  52.57557367  52.89340291  53.19463984  53.4674999   56.00196318\n",
      "  57.8423532   59.85291689  60.2702176   61.08990365  61.81765121\n",
      "  64.4044118   64.53394419  65.11971697  65.35979787  66.0044294\n",
      "  66.05634602  66.49463615  68.98762118  71.506056    72.62867437\n",
      "  74.000201    79.47486918  79.49552657  80.15346038  82.39738578\n",
      "  84.70814705  84.93550188  88.44792003  88.74172476  89.19584139\n",
      "  89.36999426  94.80467557  94.80791115  99.00000214 103.7770983\n",
      " 104.20486113 106.07884373 111.93023886 136.19941808]\n"
     ]
    }
   ],
   "source": [
    "#Applying the best model on the calibration set\n",
    "calibration_prediction = lasso_best.predict(X_train_calibration_scaled)\n",
    "scores = abs(calibration_prediction - y_train_calibration )\n",
    "scores = np.sort(scores)\n",
    "print(scores)"
   ]
  },
  {
   "cell_type": "code",
   "execution_count": 39,
   "metadata": {},
   "outputs": [
    {
     "name": "stdout",
     "output_type": "stream",
     "text": [
      "Value of k for significance level of 20%: 80\n",
      "Value of c for significance level of 20%: 72.62867436849413\n",
      "Prediction Length for significance level of 20%: 145.25734873698826\n"
     ]
    }
   ],
   "source": [
    "#For significance level of 20%\n",
    "k20 = math.ceil(((1 - 0.2)*(len(X_train_calibration) + 1)))\n",
    "print(\"Value of k for significance level of 20%:\",k20)\n",
    "c20 = scores[k20-1]\n",
    "print(\"Value of c for significance level of 20%:\",c20)\n",
    "print(\"Prediction Length for significance level of 20%:\", 2*c20)"
   ]
  },
  {
   "cell_type": "code",
   "execution_count": 40,
   "metadata": {},
   "outputs": [
    {
     "name": "stdout",
     "output_type": "stream",
     "text": [
      "Prediction length for Sample  0  is [ 78.95341329164901 , 224.21076202863728 ]\n",
      "Prediction length for Sample  1  is [ 47.37446723713761 , 192.63181597412586 ]\n",
      "Prediction length for Sample  2  is [ -7.202838628231149 , 138.0545101087571 ]\n",
      "Prediction length for Sample  3  is [ 186.5981765439162 , 331.85552528090443 ]\n",
      "Prediction length for Sample  4  is [ 7.066503048334027 , 152.3238517853223 ]\n",
      "Prediction length for Sample  5  is [ 149.55252975909212 , 294.8098784960804 ]\n",
      "Prediction length for Sample  6  is [ 98.81994041785688 , 244.07728915484515 ]\n",
      "Prediction length for Sample  7  is [ 123.93082675140542 , 269.18817548839365 ]\n",
      "Prediction length for Sample  8  is [ 191.18207909765542 , 336.43942783464365 ]\n",
      "Prediction length for Sample  9  is [ -1.4683919742964804 , 143.78895676269178 ]\n",
      "Prediction length for Sample  10  is [ 53.1267561670833 , 198.38410490407156 ]\n",
      "Prediction length for Sample  11  is [ 129.8178397030441 , 275.0751884400323 ]\n",
      "Prediction length for Sample  12  is [ 44.07234870997388 , 189.32969744696214 ]\n",
      "Prediction length for Sample  13  is [ 95.57258287335895 , 240.82993161034722 ]\n",
      "Prediction length for Sample  14  is [ 122.38331194085788 , 267.64066067784614 ]\n",
      "Prediction length for Sample  15  is [ 34.89283391038407 , 180.15018264737233 ]\n",
      "Prediction length for Sample  16  is [ 30.365177250223752 , 175.62252598721201 ]\n",
      "Prediction length for Sample  17  is [ 43.541411673710144 , 188.7987604106984 ]\n",
      "Prediction length for Sample  18  is [ 102.34499389686951 , 247.60234263385777 ]\n",
      "Prediction length for Sample  19  is [ 70.11806309723374 , 215.375411834222 ]\n",
      "Prediction length for Sample  20  is [ 84.67274895749571 , 229.93009769448398 ]\n",
      "Prediction length for Sample  21  is [ 77.61330920194823 , 222.8706579389365 ]\n",
      "Prediction length for Sample  22  is [ 133.48203729299158 , 278.73938602997987 ]\n",
      "Prediction length for Sample  23  is [ 28.73164392396518 , 173.98899266095344 ]\n",
      "Prediction length for Sample  24  is [ 18.396972608421592 , 163.65432134540987 ]\n",
      "Prediction length for Sample  25  is [ 25.51549823069709 , 170.77284696768535 ]\n",
      "Prediction length for Sample  26  is [ 138.109303792787 , 283.36665252977525 ]\n",
      "Prediction length for Sample  27  is [ -15.747180407613058 , 129.5101683293752 ]\n",
      "Prediction length for Sample  28  is [ 8.641013291467004 , 153.89836202845527 ]\n",
      "Prediction length for Sample  29  is [ 53.581810233174565 , 198.83915897016283 ]\n",
      "Prediction length for Sample  30  is [ -16.307554282748512 , 128.94979445423974 ]\n",
      "Prediction length for Sample  31  is [ 80.06469997470523 , 225.3220487116935 ]\n",
      "Prediction length for Sample  32  is [ -10.087843449569064 , 135.1695052874192 ]\n",
      "Prediction length for Sample  33  is [ 38.95169671277006 , 184.20904544975832 ]\n",
      "Prediction length for Sample  34  is [ 142.4234540892235 , 287.6808028262118 ]\n",
      "Prediction length for Sample  35  is [ 169.76635525115174 , 315.02370398814 ]\n",
      "Prediction length for Sample  36  is [ 35.16855421260141 , 180.42590294958967 ]\n",
      "Prediction length for Sample  37  is [ 41.704851772154754 , 186.96220050914303 ]\n",
      "Prediction length for Sample  38  is [ 11.812005846731523 , 157.0693545837198 ]\n",
      "Prediction length for Sample  39  is [ 87.44956494088953 , 232.7069136778778 ]\n",
      "Prediction length for Sample  40  is [ 82.94519309949641 , 228.20254183648467 ]\n",
      "Prediction length for Sample  41  is [ 84.8241012254231 , 230.08144996241137 ]\n",
      "Prediction length for Sample  42  is [ 34.190490693072604 , 179.44783943006087 ]\n",
      "Prediction length for Sample  43  is [ -6.878387730753516 , 138.37896100623476 ]\n",
      "Prediction length for Sample  44  is [ -11.98848687286366 , 133.2688618641246 ]\n",
      "Prediction length for Sample  45  is [ 17.16774692096294 , 162.4250956579512 ]\n",
      "Prediction length for Sample  46  is [ 148.1333417834705 , 293.39069052045875 ]\n",
      "Prediction length for Sample  47  is [ 56.845913792593024 , 202.1032625295813 ]\n",
      "Prediction length for Sample  48  is [ 109.05776612017652 , 254.3151148571648 ]\n",
      "Prediction length for Sample  49  is [ 78.5396515584396 , 223.79700029542786 ]\n",
      "Prediction length for Sample  50  is [ 16.265087982515965 , 161.52243671950424 ]\n",
      "Prediction length for Sample  51  is [ 62.77046600091407 , 208.02781473790233 ]\n",
      "Prediction length for Sample  52  is [ 48.30662014113143 , 193.56396887811968 ]\n",
      "Prediction length for Sample  53  is [ -19.02352892726057 , 126.23381980972769 ]\n",
      "Prediction length for Sample  54  is [ 119.24859500028003 , 264.5059437372683 ]\n",
      "Prediction length for Sample  55  is [ 172.0928234298259 , 317.35017216681416 ]\n",
      "Prediction length for Sample  56  is [ 126.29364100935635 , 271.5509897463446 ]\n",
      "Prediction length for Sample  57  is [ 51.82462167567415 , 197.08197041266243 ]\n",
      "Prediction length for Sample  58  is [ -6.203131921227467 , 139.0542168157608 ]\n",
      "Prediction length for Sample  59  is [ 77.31750409838327 , 222.57485283537153 ]\n",
      "Prediction length for Sample  60  is [ -23.20468083968592 , 122.05266789730234 ]\n",
      "Prediction length for Sample  61  is [ 52.14128159937451 , 197.39863033636277 ]\n",
      "Prediction length for Sample  62  is [ 125.62577933690542 , 270.88312807389366 ]\n",
      "Prediction length for Sample  63  is [ 93.70427443152226 , 238.96162316851053 ]\n",
      "Prediction length for Sample  64  is [ 49.8801515545032 , 195.13750029149145 ]\n",
      "Prediction length for Sample  65  is [ 107.31697776115166 , 252.57432649813992 ]\n",
      "Prediction length for Sample  66  is [ 39.792104010377386 , 185.04945274736565 ]\n",
      "Prediction length for Sample  67  is [ 50.25674712505399 , 195.51409586204227 ]\n",
      "Prediction length for Sample  68  is [ 100.73535669896123 , 245.9927054359495 ]\n",
      "Prediction length for Sample  69  is [ 41.06023398403158 , 186.31758272101985 ]\n",
      "Prediction length for Sample  70  is [ 27.35980638080781 , 172.61715511779607 ]\n",
      "Prediction length for Sample  71  is [ 158.95727985381743 , 304.21462859080566 ]\n",
      "Prediction length for Sample  72  is [ 38.3125847585399 , 183.56993349552818 ]\n",
      "Prediction length for Sample  73  is [ 13.05950683142666 , 158.31685556841492 ]\n",
      "Prediction length for Sample  74  is [ 85.49949481542146 , 230.75684355240972 ]\n",
      "Prediction length for Sample  75  is [ 63.6550521978447 , 208.91240093483296 ]\n",
      "Prediction length for Sample  76  is [ 4.018886730378327 , 149.27623546736658 ]\n",
      "Prediction length for Sample  77  is [ 87.98773452895509 , 233.24508326594335 ]\n",
      "Prediction length for Sample  78  is [ 49.64549893315751 , 194.90284767014577 ]\n",
      "Prediction length for Sample  79  is [ 127.74845931576576 , 273.005808052754 ]\n",
      "Prediction length for Sample  80  is [ 94.25465547738568 , 239.51200421437395 ]\n",
      "Prediction length for Sample  81  is [ 74.28981425056347 , 219.54716298755173 ]\n",
      "Prediction length for Sample  82  is [ 37.5008092748466 , 182.75815801183487 ]\n",
      "Prediction length for Sample  83  is [ -9.814562139307853 , 135.44278659768042 ]\n",
      "Prediction length for Sample  84  is [ 142.25869517619483 , 287.5160439131831 ]\n",
      "Prediction length for Sample  85  is [ -26.321076395043846 , 118.93627234194442 ]\n",
      "Prediction length for Sample  86  is [ -7.012698503729723 , 138.24465023325854 ]\n",
      "Prediction length for Sample  87  is [ 147.31437277080263 , 292.5717215077909 ]\n",
      "Prediction length for Sample  88  is [ 82.32139587181567 , 227.57874460880393 ]\n",
      "Prediction length for Sample  89  is [ 77.41823540890351 , 222.67558414589178 ]\n",
      "Prediction length for Sample  90  is [ -0.04311461371132452 , 145.21423412327692 ]\n",
      "Prediction length for Sample  91  is [ 59.361712932957715 , 204.61906166994598 ]\n",
      "Prediction length for Sample  92  is [ 177.8106280869925 , 323.06797682398076 ]\n",
      "Prediction length for Sample  93  is [ 127.8809570620922 , 273.13830579908046 ]\n",
      "Prediction length for Sample  94  is [ 209.31263597386484 , 354.5699847108531 ]\n",
      "Prediction length for Sample  95  is [ 5.958049956385196 , 151.21539869337346 ]\n",
      "Prediction length for Sample  96  is [ 116.84460252232375 , 262.10195125931205 ]\n",
      "Prediction length for Sample  97  is [ 190.28634569147218 , 335.5436944284604 ]\n",
      "Prediction length for Sample  98  is [ 41.12733164099993 , 186.3846803779882 ]\n",
      "Prediction length for Sample  99  is [ 14.553866816032794 , 159.81121555302104 ]\n",
      "Prediction length for Sample  100  is [ 10.288721787763137 , 155.5460705247514 ]\n",
      "Prediction length for Sample  101  is [ 7.362174998525973 , 152.61952373551424 ]\n",
      "Prediction length for Sample  102  is [ 178.68892863765592 , 323.9462773746442 ]\n",
      "Prediction length for Sample  103  is [ 103.5725379955104 , 248.82988673249866 ]\n",
      "Prediction length for Sample  104  is [ 61.453050053231294 , 206.71039879021956 ]\n",
      "Prediction length for Sample  105  is [ 74.08867233498549 , 219.34602107197375 ]\n",
      "Prediction length for Sample  106  is [ 83.83960829261719 , 229.09695702960545 ]\n",
      "Prediction length for Sample  107  is [ 56.30909090237256 , 201.56643963936082 ]\n",
      "Prediction length for Sample  108  is [ -5.978278557474084 , 139.27907017951418 ]\n",
      "Prediction length for Sample  109  is [ 85.91460112973678 , 231.17194986672504 ]\n",
      "Prediction length for Sample  110  is [ 128.0708798882321 , 273.3282286252204 ]\n"
     ]
    }
   ],
   "source": [
    "prediction = lasso_best.predict(X_test_scaled)\n",
    "error_count=0\n",
    "for i in range(len(prediction)):\n",
    "    print(\"Prediction length for Sample \",i,\" is [\",prediction[i]-c20,\",\",prediction[i]+c20,\"]\")\n",
    "    if (y_test[i] < prediction[i]-c20 ) or (y_test[i] > prediction[i]+c20):\n",
    "        error_count = error_count+1\n"
   ]
  },
  {
   "cell_type": "code",
   "execution_count": 41,
   "metadata": {},
   "outputs": [
    {
     "name": "stdout",
     "output_type": "stream",
     "text": [
      "Error Rate of Inductive conformal Predictor at 20% significance Level:  0.17117117117117117\n"
     ]
    }
   ],
   "source": [
    "print(\"Error Rate of Inductive conformal Predictor at 20% significance Level: \",error_count/len(prediction))"
   ]
  },
  {
   "cell_type": "code",
   "execution_count": 42,
   "metadata": {},
   "outputs": [
    {
     "name": "stdout",
     "output_type": "stream",
     "text": [
      "Value of k for significance level of 5%: 95\n",
      "Value of c for significance level of 5%: 103.77709829514839\n",
      "Prediction Length for significance level of 5%: 207.55419659029678\n"
     ]
    }
   ],
   "source": [
    "#For significance level of 5%\n",
    "k5 = math.ceil(((1 - 0.05)*(len(X_train_calibration) + 1)))\n",
    "print(\"Value of k for significance level of 5%:\",k5)\n",
    "c5 = scores[k5-1]\n",
    "print(\"Value of c for significance level of 5%:\",c5)\n",
    "print(\"Prediction Length for significance level of 5%:\", 2*c5)"
   ]
  },
  {
   "cell_type": "code",
   "execution_count": 43,
   "metadata": {},
   "outputs": [
    {
     "name": "stdout",
     "output_type": "stream",
     "text": [
      "Prediction length for Sample  0  is [ 47.80498936499475 , 255.35918595529154 ]\n",
      "Prediction length for Sample  1  is [ 16.226043310483348 , 223.78023990078015 ]\n",
      "Prediction length for Sample  2  is [ -38.35126255488541 , 169.20293403541137 ]\n",
      "Prediction length for Sample  3  is [ 155.44975261726194 , 363.0039492075587 ]\n",
      "Prediction length for Sample  4  is [ -24.081920878320233 , 183.47227571197655 ]\n",
      "Prediction length for Sample  5  is [ 118.40410583243786 , 325.9583024227346 ]\n",
      "Prediction length for Sample  6  is [ 67.67151649120262 , 275.2257130814994 ]\n",
      "Prediction length for Sample  7  is [ 92.78240282475116 , 300.33659941504794 ]\n",
      "Prediction length for Sample  8  is [ 160.03365517100116 , 367.58785176129794 ]\n",
      "Prediction length for Sample  9  is [ -32.61681590095074 , 174.93738068934604 ]\n",
      "Prediction length for Sample  10  is [ 21.97833224042904 , 229.53252883072582 ]\n",
      "Prediction length for Sample  11  is [ 98.66941577638983 , 306.2236123666866 ]\n",
      "Prediction length for Sample  12  is [ 12.92392478331962 , 220.4781213736164 ]\n",
      "Prediction length for Sample  13  is [ 64.4241589467047 , 271.97835553700145 ]\n",
      "Prediction length for Sample  14  is [ 91.23488801420362 , 298.78908460450043 ]\n",
      "Prediction length for Sample  15  is [ 3.7444099837298097 , 211.2986065740266 ]\n",
      "Prediction length for Sample  16  is [ -0.7832466764305082 , 206.77094991386627 ]\n",
      "Prediction length for Sample  17  is [ 12.392987747055884 , 219.94718433735267 ]\n",
      "Prediction length for Sample  18  is [ 71.19656997021525 , 278.75076656051203 ]\n",
      "Prediction length for Sample  19  is [ 38.969639170579484 , 246.52383576087627 ]\n",
      "Prediction length for Sample  20  is [ 53.52432503084145 , 261.07852162113824 ]\n",
      "Prediction length for Sample  21  is [ 46.464885275293966 , 254.01908186559075 ]\n",
      "Prediction length for Sample  22  is [ 102.33361336633732 , 309.8878099566341 ]\n",
      "Prediction length for Sample  23  is [ -2.41678000268908 , 205.1374165876077 ]\n",
      "Prediction length for Sample  24  is [ -12.751451318232668 , 194.8027452720641 ]\n",
      "Prediction length for Sample  25  is [ -5.632925695957169 , 201.9212708943396 ]\n",
      "Prediction length for Sample  26  is [ 106.96087986613273 , 314.5150764564295 ]\n",
      "Prediction length for Sample  27  is [ -46.89560433426732 , 160.65859225602946 ]\n",
      "Prediction length for Sample  28  is [ -22.507410635187256 , 185.04678595510953 ]\n",
      "Prediction length for Sample  29  is [ 22.433386306520305 , 229.9875828968171 ]\n",
      "Prediction length for Sample  30  is [ -47.45597820940277 , 160.09821838089402 ]\n",
      "Prediction length for Sample  31  is [ 48.916276048050975 , 256.47047263834776 ]\n",
      "Prediction length for Sample  32  is [ -41.236267376223324 , 166.31792921407344 ]\n",
      "Prediction length for Sample  33  is [ 7.803272786115798 , 215.35746937641258 ]\n",
      "Prediction length for Sample  34  is [ 111.27503016256924 , 318.829226752866 ]\n",
      "Prediction length for Sample  35  is [ 138.61793132449748 , 346.17212791479426 ]\n",
      "Prediction length for Sample  36  is [ 4.020130285947147 , 211.57432687624393 ]\n",
      "Prediction length for Sample  37  is [ 10.556427845500494 , 218.11062443579726 ]\n",
      "Prediction length for Sample  38  is [ -19.336418079922737 , 188.21777851037405 ]\n",
      "Prediction length for Sample  39  is [ 56.30114101423527 , 263.85533760453205 ]\n",
      "Prediction length for Sample  40  is [ 51.79676917284215 , 259.3509657631389 ]\n",
      "Prediction length for Sample  41  is [ 53.675677298768846 , 261.22987388906563 ]\n",
      "Prediction length for Sample  42  is [ 3.042066766418344 , 210.59626335671513 ]\n",
      "Prediction length for Sample  43  is [ -38.02681165740778 , 169.527384932889 ]\n",
      "Prediction length for Sample  44  is [ -43.13691079951792 , 164.41728579077886 ]\n",
      "Prediction length for Sample  45  is [ -13.98067700569132 , 193.57351958460546 ]\n",
      "Prediction length for Sample  46  is [ 116.98491785681625 , 324.53911444711304 ]\n",
      "Prediction length for Sample  47  is [ 25.697489865938763 , 233.25168645623555 ]\n",
      "Prediction length for Sample  48  is [ 77.90934219352226 , 285.46353878381905 ]\n",
      "Prediction length for Sample  49  is [ 47.39122763178534 , 254.94542422208212 ]\n",
      "Prediction length for Sample  50  is [ -14.883335944138295 , 192.67086064615847 ]\n",
      "Prediction length for Sample  51  is [ 31.62204207425981 , 239.1762386645566 ]\n",
      "Prediction length for Sample  52  is [ 17.158196214477172 , 224.71239280477397 ]\n",
      "Prediction length for Sample  53  is [ -50.17195285391483 , 157.38224373638195 ]\n",
      "Prediction length for Sample  54  is [ 88.10017107362577 , 295.6543676639226 ]\n",
      "Prediction length for Sample  55  is [ 140.94439950317164 , 348.49859609346845 ]\n",
      "Prediction length for Sample  56  is [ 95.14521708270209 , 302.69941367299884 ]\n",
      "Prediction length for Sample  57  is [ 20.67619774901989 , 228.23039433931666 ]\n",
      "Prediction length for Sample  58  is [ -37.35155584788173 , 170.20264074241504 ]\n",
      "Prediction length for Sample  59  is [ 46.16908017172901 , 253.7232767620258 ]\n",
      "Prediction length for Sample  60  is [ -54.35310476634018 , 153.2010918239566 ]\n",
      "Prediction length for Sample  61  is [ 20.99285767272025 , 228.54705426301703 ]\n",
      "Prediction length for Sample  62  is [ 94.47735541025116 , 302.03155200054795 ]\n",
      "Prediction length for Sample  63  is [ 62.555850504868005 , 270.11004709516476 ]\n",
      "Prediction length for Sample  64  is [ 18.73172762784894 , 226.28592421814574 ]\n",
      "Prediction length for Sample  65  is [ 76.1685538344974 , 283.7227504247942 ]\n",
      "Prediction length for Sample  66  is [ 8.643680083723126 , 216.1978766740199 ]\n",
      "Prediction length for Sample  67  is [ 19.10832319839973 , 226.6625197886965 ]\n",
      "Prediction length for Sample  68  is [ 69.58693277230697 , 277.14112936260375 ]\n",
      "Prediction length for Sample  69  is [ 9.911810057377323 , 217.4660066476741 ]\n",
      "Prediction length for Sample  70  is [ -3.7886175458464493 , 203.76557904445033 ]\n",
      "Prediction length for Sample  71  is [ 127.80885592716317 , 335.36305251745995 ]\n",
      "Prediction length for Sample  72  is [ 7.1641608318856385 , 214.7183574221824 ]\n",
      "Prediction length for Sample  73  is [ -18.0889170952276 , 189.46527949506918 ]\n",
      "Prediction length for Sample  74  is [ 54.3510708887672 , 261.905267479064 ]\n",
      "Prediction length for Sample  75  is [ 32.506628271190436 , 240.06082486148722 ]\n",
      "Prediction length for Sample  76  is [ -27.129537196275933 , 180.42465939402086 ]\n",
      "Prediction length for Sample  77  is [ 56.83931060230083 , 264.3935071925976 ]\n",
      "Prediction length for Sample  78  is [ 18.497075006503252 , 226.05127159680004 ]\n",
      "Prediction length for Sample  79  is [ 96.6000353891115 , 304.1542319794083 ]\n",
      "Prediction length for Sample  80  is [ 63.10623155073142 , 270.6604281410282 ]\n",
      "Prediction length for Sample  81  is [ 43.14139032390921 , 250.695586914206 ]\n",
      "Prediction length for Sample  82  is [ 6.3523853481923425 , 213.90658193848913 ]\n",
      "Prediction length for Sample  83  is [ -40.96298606596211 , 166.59121052433466 ]\n",
      "Prediction length for Sample  84  is [ 111.11027124954057 , 318.66446783983736 ]\n",
      "Prediction length for Sample  85  is [ -57.469500321698106 , 150.0846962685987 ]\n",
      "Prediction length for Sample  86  is [ -38.16112243038398 , 169.3930741599128 ]\n",
      "Prediction length for Sample  87  is [ 116.16594884414837 , 323.72014543444516 ]\n",
      "Prediction length for Sample  88  is [ 51.17297194516141 , 258.7271685354582 ]\n",
      "Prediction length for Sample  89  is [ 46.26981148224925 , 253.82400807254604 ]\n",
      "Prediction length for Sample  90  is [ -31.191538540365585 , 176.3626580499312 ]\n",
      "Prediction length for Sample  91  is [ 28.213289006303455 , 235.76748559660024 ]\n",
      "Prediction length for Sample  92  is [ 146.66220416033823 , 354.216400750635 ]\n",
      "Prediction length for Sample  93  is [ 96.73253313543793 , 304.28672972573474 ]\n",
      "Prediction length for Sample  94  is [ 178.16421204721058 , 385.71840863750737 ]\n",
      "Prediction length for Sample  95  is [ -25.190373970269064 , 182.36382262002772 ]\n",
      "Prediction length for Sample  96  is [ 85.6961785956695 , 293.2503751859663 ]\n",
      "Prediction length for Sample  97  is [ 159.13792176481792 , 366.6921183551147 ]\n",
      "Prediction length for Sample  98  is [ 9.978907714345667 , 217.53310430464245 ]\n",
      "Prediction length for Sample  99  is [ -16.594557110621466 , 190.95963947967533 ]\n",
      "Prediction length for Sample  100  is [ -20.859702138891123 , 186.69449445140566 ]\n",
      "Prediction length for Sample  101  is [ -23.786248928128288 , 183.7679476621685 ]\n",
      "Prediction length for Sample  102  is [ 147.54050471100166 , 355.0947013012984 ]\n",
      "Prediction length for Sample  103  is [ 72.42411406885614 , 279.97831065915295 ]\n",
      "Prediction length for Sample  104  is [ 30.304626126577034 , 237.85882271687382 ]\n",
      "Prediction length for Sample  105  is [ 42.94024840833123 , 250.494444998628 ]\n",
      "Prediction length for Sample  106  is [ 52.691184365962926 , 260.24538095625974 ]\n",
      "Prediction length for Sample  107  is [ 25.1606669757183 , 232.71486356601508 ]\n",
      "Prediction length for Sample  108  is [ -37.126702484128344 , 170.42749410616844 ]\n",
      "Prediction length for Sample  109  is [ 54.76617720308252 , 262.3203737933793 ]\n",
      "Prediction length for Sample  110  is [ 96.92245596157784 , 304.4766525518746 ]\n"
     ]
    }
   ],
   "source": [
    "prediction = lasso_best.predict(X_test_scaled)\n",
    "error_count=0\n",
    "for i in range(len(prediction)):\n",
    "    print(\"Prediction length for Sample \",i,\" is [\",prediction[i]-c5,\",\",prediction[i]+c5,\"]\")\n",
    "    if (y_test[i] < prediction[i]-c5 ) or (y_test[i] > prediction[i]+c5):\n",
    "        error_count = error_count+1\n"
   ]
  },
  {
   "cell_type": "code",
   "execution_count": 44,
   "metadata": {},
   "outputs": [
    {
     "name": "stdout",
     "output_type": "stream",
     "text": [
      "Error Rate of Inductive Conformal Predictor at 5% significance Level:  0.06306306306306306\n"
     ]
    }
   ],
   "source": [
    "print(\"Error Rate of Inductive Conformal Predictor at 5% significance Level: \",error_count/len(prediction))"
   ]
  },
  {
   "cell_type": "markdown",
   "metadata": {},
   "source": [
    "# Results:"
   ]
  },
  {
   "cell_type": "markdown",
   "metadata": {},
   "source": [
    "Lasso on Diabetes dataset from sklearn:\n",
    "\n",
    "    Training R Square:  0.3710490118794657\n",
    "    Test R Square:  0.32847652173697683\n",
    "    \n",
    "    Number of features used in the model: 4\n",
    "    \n",
    "    The features used are:\n",
    "\n",
    "    bmi\n",
    "    bp\n",
    "    s3\n",
    "    s5\n",
    "    \n",
    "Lasso on original Diabetes dataset:\n",
    "\n",
    "    Training R Square:  0.537308531659811\n",
    "    Test R Square:  0.3626403051692718\n",
    "    \n",
    "    Number of features used in the model: 10\n",
    "    \n",
    "    The features used are:\n",
    "    \n",
    "    age\n",
    "    sex\n",
    "    bmi\n",
    "    bp\n",
    "    s1\n",
    "    s2\n",
    "    s3\n",
    "    s4\n",
    "    s5\n",
    "    s6\n",
    "    \n",
    "Lasso on scaled original Dataset:\n",
    "\n",
    "    Training R Square:  0.5401388610861284\n",
    "    Test R Square:  0.3796442379645816\n",
    "    \n",
    "    Number of features used in the model: 8\n",
    "    \n",
    "    The features used are:\n",
    "    \n",
    "    sex\n",
    "    bmi\n",
    "    bp\n",
    "    s1\n",
    "    s3\n",
    "    s4\n",
    "    s5\n",
    "    s6\n",
    "\n",
    "\n",
    "Best Lasso model with cross validation:\n",
    "\n",
    "\n",
    "    Training set R square with best parameters: 0.5445543623460898\n",
    "    Test set R square with best parameters: 0.37577614048016017\n",
    "    \n",
    "    Number of parameters used: 10\n",
    "    \n",
    "Inductive Conformal Predictor:\n",
    "\n",
    "    20% significance level:\n",
    "    \n",
    "        Prediction Length for significance level of 20%: 145.25734873698826\n",
    "        Error Rate of Inductive conformal Predictor at 20% significance Level:  0.17117117117117117\n",
    "    \n",
    "    \n",
    "    5% significance level:\n",
    "    \n",
    "        Prediction Length for significance level of 5%: 207.55419659029678\n",
    "        Error Rate of Inductive Conformal Predictor at 5% significance Level:  0.06306306306306306\n",
    "        "
   ]
  },
  {
   "cell_type": "code",
   "execution_count": null,
   "metadata": {},
   "outputs": [],
   "source": []
  }
 ],
 "metadata": {
  "kernelspec": {
   "display_name": "Python 3",
   "language": "python",
   "name": "python3"
  },
  "language_info": {
   "codemirror_mode": {
    "name": "ipython",
    "version": 3
   },
   "file_extension": ".py",
   "mimetype": "text/x-python",
   "name": "python",
   "nbconvert_exporter": "python",
   "pygments_lexer": "ipython3",
   "version": "3.8.5"
  }
 },
 "nbformat": 4,
 "nbformat_minor": 4
}
