{
 "cells": [
  {
   "cell_type": "markdown",
   "metadata": {},
   "source": [
    "# CS5920J Assessed Coursework Assignment 2"
   ]
  },
  {
   "cell_type": "code",
   "execution_count": 1,
   "metadata": {},
   "outputs": [],
   "source": [
    "#Importing modules\n",
    "import numpy as np\n",
    "import math\n",
    "import matplotlib.pyplot as plt"
   ]
  },
  {
   "cell_type": "markdown",
   "metadata": {},
   "source": [
    "Loading Diabetes Dataset from Sklearn"
   ]
  },
  {
   "cell_type": "code",
   "execution_count": 2,
   "metadata": {},
   "outputs": [
    {
     "name": "stdout",
     "output_type": "stream",
     "text": [
      ".. _diabetes_dataset:\n",
      "\n",
      "Diabetes dataset\n",
      "----------------\n",
      "\n",
      "Ten baseline variables, age, sex, body mass index, average blood\n",
      "pressure, and six blood serum measurements were obtained for each of n =\n",
      "442 diabetes patients, as well as the response of interest, a\n",
      "quantitative measure of disease progression one year after baseline.\n",
      "\n",
      "**Data Set Characteristics:**\n",
      "\n",
      "  :Number of Instances: 442\n",
      "\n",
      "  :Number of Attributes: First 10 columns are numeric predictive values\n",
      "\n",
      "  :Target: Column 11 is a quantitative measure of disease progression one year after baseline\n",
      "\n",
      "  :Attribute Information:\n",
      "      - age     age in years\n",
      "      - sex\n",
      "      - bmi     body mass index\n",
      "      - bp      average blood pressure\n",
      "      - s1      tc, T-Cells (a type of white blood cells)\n",
      "      - s2      ldl, low-density lipoproteins\n",
      "      - s3      hdl, high-density lipoproteins\n",
      "      - s4      tch, thyroid stimulating hormone\n",
      "      - s5      ltg, lamotrigine\n",
      "      - s6      glu, blood sugar level\n",
      "\n",
      "Note: Each of these 10 feature variables have been mean centered and scaled by the standard deviation times `n_samples` (i.e. the sum of squares of each column totals 1).\n",
      "\n",
      "Source URL:\n",
      "https://www4.stat.ncsu.edu/~boos/var.select/diabetes.html\n",
      "\n",
      "For more information see:\n",
      "Bradley Efron, Trevor Hastie, Iain Johnstone and Robert Tibshirani (2004) \"Least Angle Regression,\" Annals of Statistics (with discussion), 407-499.\n",
      "(https://web.stanford.edu/~hastie/Papers/LARS/LeastAngle_2002.pdf)\n"
     ]
    }
   ],
   "source": [
    "from sklearn.datasets import load_diabetes\n",
    "diabetes = load_diabetes()\n",
    "print(diabetes.DESCR)"
   ]
  },
  {
   "cell_type": "markdown",
   "metadata": {},
   "source": [
    "Splitting the data into Traning and test set with random state "
   ]
  },
  {
   "cell_type": "code",
   "execution_count": 3,
   "metadata": {},
   "outputs": [],
   "source": [
    "#Splitting the data into Traning and test set with random state DDMM\n",
    "from sklearn.model_selection import train_test_split\n",
    "X_train, X_test, y_train, y_test = train_test_split(diabetes.data, diabetes.target,random_state=100)"
   ]
  },
  {
   "cell_type": "code",
   "execution_count": 4,
   "metadata": {},
   "outputs": [
    {
     "data": {
      "text/plain": [
       "(331, 10)"
      ]
     },
     "execution_count": 4,
     "metadata": {},
     "output_type": "execute_result"
    }
   ],
   "source": [
    "np.shape(X_train)"
   ]
  },
  {
   "cell_type": "code",
   "execution_count": 5,
   "metadata": {},
   "outputs": [
    {
     "data": {
      "text/plain": [
       "(111, 10)"
      ]
     },
     "execution_count": 5,
     "metadata": {},
     "output_type": "execute_result"
    }
   ],
   "source": [
    "np.shape(X_test)"
   ]
  },
  {
   "cell_type": "markdown",
   "metadata": {},
   "source": [
    "# Applying Lasso"
   ]
  },
  {
   "cell_type": "code",
   "execution_count": 6,
   "metadata": {},
   "outputs": [],
   "source": [
    "from sklearn.linear_model import Lasso\n",
    "lasso = Lasso().fit(X_train,y_train)"
   ]
  },
  {
   "cell_type": "code",
   "execution_count": 7,
   "metadata": {},
   "outputs": [
    {
     "data": {
      "text/plain": [
       "array([  0.        ,  -0.        , 375.33426866,   0.        ,\n",
       "         0.        ,   0.        ,  -0.        ,   0.        ,\n",
       "       302.34970712,   0.        ])"
      ]
     },
     "execution_count": 7,
     "metadata": {},
     "output_type": "execute_result"
    }
   ],
   "source": [
    "lasso.coef_"
   ]
  },
  {
   "cell_type": "code",
   "execution_count": 8,
   "metadata": {},
   "outputs": [
    {
     "name": "stdout",
     "output_type": "stream",
     "text": [
      "Training R Square:  0.3542098757353431\n",
      "Test R Square:  0.3409285780866096\n"
     ]
    }
   ],
   "source": [
    "print(\"Training R Square: \", lasso.score(X_train,y_train))\n",
    "print(\"Test R Square: \",lasso.score(X_test,y_test))"
   ]
  },
  {
   "cell_type": "code",
   "execution_count": 9,
   "metadata": {},
   "outputs": [
    {
     "name": "stdout",
     "output_type": "stream",
     "text": [
      "Number of features used in the model: 2\n"
     ]
    }
   ],
   "source": [
    "print(\"Number of features used in the model:\",np.sum(lasso.coef_!= 0))"
   ]
  },
  {
   "cell_type": "code",
   "execution_count": 10,
   "metadata": {},
   "outputs": [
    {
     "name": "stdout",
     "output_type": "stream",
     "text": [
      "The features used are:\n",
      "\n",
      "bmi\n",
      "s5\n"
     ]
    }
   ],
   "source": [
    "print(\"The features used are:\\n\")\n",
    "index = np.where(lasso.coef_ != 0)[0]\n",
    "for i in index:\n",
    "    print(diabetes.feature_names[i])\n"
   ]
  },
  {
   "cell_type": "markdown",
   "metadata": {},
   "source": [
    "Loading Original Diabetes Dataset"
   ]
  },
  {
   "cell_type": "code",
   "execution_count": 11,
   "metadata": {},
   "outputs": [
    {
     "data": {
      "text/plain": [
       "(443, 11)"
      ]
     },
     "execution_count": 11,
     "metadata": {},
     "output_type": "execute_result"
    }
   ],
   "source": [
    "diabetes_data = np.genfromtxt(\"diabetes.txt\", delimiter=\"\\t\")\n",
    "np.shape(diabetes_data)"
   ]
  },
  {
   "cell_type": "code",
   "execution_count": 12,
   "metadata": {},
   "outputs": [],
   "source": [
    "#Cleaning data to remove rows with NaN\n",
    "diabetes_data = diabetes_data[~np.isnan(diabetes_data).any(axis=1),:]"
   ]
  },
  {
   "cell_type": "code",
   "execution_count": 13,
   "metadata": {
    "scrolled": true
   },
   "outputs": [
    {
     "data": {
      "text/plain": [
       "array([[ 59.    ,   2.    ,  32.1   , ...,   4.8598,  87.    , 151.    ],\n",
       "       [ 48.    ,   1.    ,  21.6   , ...,   3.8918,  69.    ,  75.    ],\n",
       "       [ 72.    ,   2.    ,  30.5   , ...,   4.6728,  85.    , 141.    ],\n",
       "       ...,\n",
       "       [ 60.    ,   2.    ,  24.9   , ...,   4.1271,  95.    , 132.    ],\n",
       "       [ 36.    ,   1.    ,  30.    , ...,   5.1299,  85.    , 220.    ],\n",
       "       [ 36.    ,   1.    ,  19.6   , ...,   4.5951,  92.    ,  57.    ]])"
      ]
     },
     "execution_count": 13,
     "metadata": {},
     "output_type": "execute_result"
    }
   ],
   "source": [
    "diabetes_data"
   ]
  },
  {
   "cell_type": "code",
   "execution_count": 14,
   "metadata": {},
   "outputs": [
    {
     "data": {
      "text/plain": [
       "(442, 11)"
      ]
     },
     "execution_count": 14,
     "metadata": {},
     "output_type": "execute_result"
    }
   ],
   "source": [
    "np.shape(diabetes_data)"
   ]
  },
  {
   "cell_type": "code",
   "execution_count": 15,
   "metadata": {},
   "outputs": [],
   "source": [
    "#Splitting Data into features and targets\n",
    "data = diabetes_data[:,0:10]\n",
    "target = diabetes_data[:,10]"
   ]
  },
  {
   "cell_type": "code",
   "execution_count": 16,
   "metadata": {},
   "outputs": [
    {
     "data": {
      "text/plain": [
       "array([[59.    ,  2.    , 32.1   , ...,  4.    ,  4.8598, 87.    ],\n",
       "       [48.    ,  1.    , 21.6   , ...,  3.    ,  3.8918, 69.    ],\n",
       "       [72.    ,  2.    , 30.5   , ...,  4.    ,  4.6728, 85.    ],\n",
       "       ...,\n",
       "       [60.    ,  2.    , 24.9   , ...,  3.77  ,  4.1271, 95.    ],\n",
       "       [36.    ,  1.    , 30.    , ...,  4.79  ,  5.1299, 85.    ],\n",
       "       [36.    ,  1.    , 19.6   , ...,  3.    ,  4.5951, 92.    ]])"
      ]
     },
     "execution_count": 16,
     "metadata": {},
     "output_type": "execute_result"
    }
   ],
   "source": [
    "data"
   ]
  },
  {
   "cell_type": "code",
   "execution_count": 17,
   "metadata": {},
   "outputs": [
    {
     "data": {
      "text/plain": [
       "array([151.,  75., 141., 206., 135.,  97., 138.,  63., 110., 310., 101.,\n",
       "        69., 179., 185., 118., 171., 166., 144.,  97., 168.,  68.,  49.,\n",
       "        68., 245., 184., 202., 137.,  85., 131., 283., 129.,  59., 341.,\n",
       "        87.,  65., 102., 265., 276., 252.,  90., 100.,  55.,  61.,  92.,\n",
       "       259.,  53., 190., 142.,  75., 142., 155., 225.,  59., 104., 182.,\n",
       "       128.,  52.,  37., 170., 170.,  61., 144.,  52., 128.,  71., 163.,\n",
       "       150.,  97., 160., 178.,  48., 270., 202., 111.,  85.,  42., 170.,\n",
       "       200., 252., 113., 143.,  51.,  52., 210.,  65., 141.,  55., 134.,\n",
       "        42., 111.,  98., 164.,  48.,  96.,  90., 162., 150., 279.,  92.,\n",
       "        83., 128., 102., 302., 198.,  95.,  53., 134., 144., 232.,  81.,\n",
       "       104.,  59., 246., 297., 258., 229., 275., 281., 179., 200., 200.,\n",
       "       173., 180.,  84., 121., 161.,  99., 109., 115., 268., 274., 158.,\n",
       "       107.,  83., 103., 272.,  85., 280., 336., 281., 118., 317., 235.,\n",
       "        60., 174., 259., 178., 128.,  96., 126., 288.,  88., 292.,  71.,\n",
       "       197., 186.,  25.,  84.,  96., 195.,  53., 217., 172., 131., 214.,\n",
       "        59.,  70., 220., 268., 152.,  47.,  74., 295., 101., 151., 127.,\n",
       "       237., 225.,  81., 151., 107.,  64., 138., 185., 265., 101., 137.,\n",
       "       143., 141.,  79., 292., 178.,  91., 116.,  86., 122.,  72., 129.,\n",
       "       142.,  90., 158.,  39., 196., 222., 277.,  99., 196., 202., 155.,\n",
       "        77., 191.,  70.,  73.,  49.,  65., 263., 248., 296., 214., 185.,\n",
       "        78.,  93., 252., 150.,  77., 208.,  77., 108., 160.,  53., 220.,\n",
       "       154., 259.,  90., 246., 124.,  67.,  72., 257., 262., 275., 177.,\n",
       "        71.,  47., 187., 125.,  78.,  51., 258., 215., 303., 243.,  91.,\n",
       "       150., 310., 153., 346.,  63.,  89.,  50.,  39., 103., 308., 116.,\n",
       "       145.,  74.,  45., 115., 264.,  87., 202., 127., 182., 241.,  66.,\n",
       "        94., 283.,  64., 102., 200., 265.,  94., 230., 181., 156., 233.,\n",
       "        60., 219.,  80.,  68., 332., 248.,  84., 200.,  55.,  85.,  89.,\n",
       "        31., 129.,  83., 275.,  65., 198., 236., 253., 124.,  44., 172.,\n",
       "       114., 142., 109., 180., 144., 163., 147.,  97., 220., 190., 109.,\n",
       "       191., 122., 230., 242., 248., 249., 192., 131., 237.,  78., 135.,\n",
       "       244., 199., 270., 164.,  72.,  96., 306.,  91., 214.,  95., 216.,\n",
       "       263., 178., 113., 200., 139., 139.,  88., 148.,  88., 243.,  71.,\n",
       "        77., 109., 272.,  60.,  54., 221.,  90., 311., 281., 182., 321.,\n",
       "        58., 262., 206., 233., 242., 123., 167.,  63., 197.,  71., 168.,\n",
       "       140., 217., 121., 235., 245.,  40.,  52., 104., 132.,  88.,  69.,\n",
       "       219.,  72., 201., 110.,  51., 277.,  63., 118.,  69., 273., 258.,\n",
       "        43., 198., 242., 232., 175.,  93., 168., 275., 293., 281.,  72.,\n",
       "       140., 189., 181., 209., 136., 261., 113., 131., 174., 257.,  55.,\n",
       "        84.,  42., 146., 212., 233.,  91., 111., 152., 120.,  67., 310.,\n",
       "        94., 183.,  66., 173.,  72.,  49.,  64.,  48., 178., 104., 132.,\n",
       "       220.,  57.])"
      ]
     },
     "execution_count": 17,
     "metadata": {},
     "output_type": "execute_result"
    }
   ],
   "source": [
    "target"
   ]
  },
  {
   "cell_type": "code",
   "execution_count": 18,
   "metadata": {},
   "outputs": [
    {
     "data": {
      "text/plain": [
       "array([-1.08257075e-01, -1.42375582e+01,  6.39075221e+00,  9.83909460e-01,\n",
       "        1.38740602e-02, -2.38916156e-01, -8.09500939e-01,  0.00000000e+00,\n",
       "        4.12095139e+01,  3.25546893e-01])"
      ]
     },
     "execution_count": 18,
     "metadata": {},
     "output_type": "execute_result"
    }
   ],
   "source": [
    "#Splitting the data into Training and test set with random state\n",
    "X_train, X_test, y_train, y_test = train_test_split(data, target,random_state=100)\n",
    "lasso1 = Lasso().fit(X_train,y_train)\n",
    "lasso1.coef_"
   ]
  },
  {
   "cell_type": "code",
   "execution_count": 19,
   "metadata": {},
   "outputs": [
    {
     "name": "stdout",
     "output_type": "stream",
     "text": [
      "Training R Square:  0.5003425134619269\n",
      "Test R Square:  0.5239875510696832\n"
     ]
    }
   ],
   "source": [
    "print(\"Training R Square: \",lasso1.score(X_train,y_train))\n",
    "print(\"Test R Square: \",lasso1.score(X_test,y_test))"
   ]
  },
  {
   "cell_type": "code",
   "execution_count": 20,
   "metadata": {},
   "outputs": [
    {
     "name": "stdout",
     "output_type": "stream",
     "text": [
      "Number of features used in the model: 9\n"
     ]
    }
   ],
   "source": [
    "print(\"Number of features used in the model:\",np.sum(lasso1.coef_!= 0))"
   ]
  },
  {
   "cell_type": "code",
   "execution_count": 21,
   "metadata": {},
   "outputs": [
    {
     "name": "stdout",
     "output_type": "stream",
     "text": [
      "The features used are:\n",
      "\n",
      "age\n",
      "sex\n",
      "bmi\n",
      "bp\n",
      "s1\n",
      "s2\n",
      "s3\n",
      "s5\n",
      "s6\n"
     ]
    }
   ],
   "source": [
    "print(\"The features used are:\\n\")\n",
    "index = np.where(lasso1.coef_ != 0)[0]\n",
    "for i in index:\n",
    "    print(diabetes.feature_names[i])"
   ]
  },
  {
   "cell_type": "markdown",
   "metadata": {},
   "source": [
    "Applying Lasso on the original dataset we observe that more coefficients are used and both training and test R square are better than the lasso on sklearn dataset."
   ]
  },
  {
   "cell_type": "markdown",
   "metadata": {},
   "source": [
    "# Preprocessing Data using Standard scalar"
   ]
  },
  {
   "cell_type": "code",
   "execution_count": 22,
   "metadata": {},
   "outputs": [],
   "source": [
    "#Importing standard scalar\n",
    "from sklearn.preprocessing import StandardScaler\n",
    "scaler = StandardScaler()"
   ]
  },
  {
   "cell_type": "code",
   "execution_count": 23,
   "metadata": {},
   "outputs": [
    {
     "data": {
      "text/plain": [
       "StandardScaler()"
      ]
     },
     "execution_count": 23,
     "metadata": {},
     "output_type": "execute_result"
    }
   ],
   "source": [
    "#Fitting the scalar to traing set\n",
    "scaler.fit(X_train)"
   ]
  },
  {
   "cell_type": "code",
   "execution_count": 24,
   "metadata": {},
   "outputs": [],
   "source": [
    "# transforming training data\n",
    "X_train_scaled = scaler.transform(X_train)\n",
    "# transform test data\n",
    "X_test_scaled = scaler.transform(X_test)"
   ]
  },
  {
   "cell_type": "markdown",
   "metadata": {},
   "source": [
    "# Applying Lasso on Scalled Data"
   ]
  },
  {
   "cell_type": "code",
   "execution_count": 25,
   "metadata": {},
   "outputs": [
    {
     "data": {
      "text/plain": [
       "array([-0.12331166, -7.73555757, 27.61993632, 12.39137475, -7.30496121,\n",
       "       -0.        , -6.70165852,  0.        , 27.2567993 ,  2.11841139])"
      ]
     },
     "execution_count": 25,
     "metadata": {},
     "output_type": "execute_result"
    }
   ],
   "source": [
    "lasso_scaled = Lasso().fit(X_train_scaled,y_train)\n",
    "lasso_scaled.coef_"
   ]
  },
  {
   "cell_type": "code",
   "execution_count": 26,
   "metadata": {},
   "outputs": [
    {
     "name": "stdout",
     "output_type": "stream",
     "text": [
      "Training R Square:  0.5022624249890308\n",
      "Test R Square:  0.5244242564754884\n"
     ]
    }
   ],
   "source": [
    "print(\"Training R Square: \",lasso_scaled.score(X_train_scaled,y_train))\n",
    "print(\"Test R Square: \",lasso_scaled.score(X_test_scaled,y_test))"
   ]
  },
  {
   "cell_type": "code",
   "execution_count": 27,
   "metadata": {},
   "outputs": [
    {
     "name": "stdout",
     "output_type": "stream",
     "text": [
      "Number of features used in the model: 8\n"
     ]
    }
   ],
   "source": [
    "print(\"Number of features used in the model:\",np.sum(lasso_scaled.coef_!= 0))"
   ]
  },
  {
   "cell_type": "code",
   "execution_count": 28,
   "metadata": {
    "scrolled": true
   },
   "outputs": [
    {
     "name": "stdout",
     "output_type": "stream",
     "text": [
      "The features used are:\n",
      "\n",
      "age\n",
      "sex\n",
      "bmi\n",
      "bp\n",
      "s1\n",
      "s3\n",
      "s5\n",
      "s6\n"
     ]
    }
   ],
   "source": [
    "print(\"The features used are:\\n\")\n",
    "index = np.where(lasso_scaled.coef_ != 0)[0]\n",
    "for i in index:\n",
    "    print(diabetes.feature_names[i])"
   ]
  },
  {
   "cell_type": "markdown",
   "metadata": {},
   "source": [
    "Applying Lasso on Scaled original dataset we observe 8 features used in the model which is less than the nonscaled data, the test and training R square values have improved more. \n",
    "\n",
    "The result is more near to one obtained in task 6 and not 3. One possible reason may be that sklearn normalized data set is normalized as a whole whereas in task 8 we have done standard scaling based on the training data. Also the normalization method used which is different may be a contributing factor."
   ]
  },
  {
   "cell_type": "markdown",
   "metadata": {},
   "source": [
    "# Checking results of Varying Alpha"
   ]
  },
  {
   "cell_type": "code",
   "execution_count": 29,
   "metadata": {},
   "outputs": [],
   "source": [
    "results = np.zeros([16,2])\n",
    "alpha = [10**-4,10**-3,10**-2,10**-2,10**-1,1,5,10,15,20,25,30,35,40,45,50]\n",
    "row=0\n",
    "for i in alpha:\n",
    "    lassox = Lasso(alpha=i).fit(X_train_scaled,y_train)\n",
    "    results[row][0]= np.sum(lassox.coef_ != 0)\n",
    "    results[row][1]= lassox.score(X_test_scaled,y_test)    \n",
    "    row= row+1  "
   ]
  },
  {
   "cell_type": "code",
   "execution_count": 30,
   "metadata": {},
   "outputs": [
    {
     "data": {
      "text/plain": [
       "<matplotlib.legend.Legend at 0x1d0200d46a0>"
      ]
     },
     "execution_count": 30,
     "metadata": {},
     "output_type": "execute_result"
    },
    {
     "data": {
      "image/png": "[encoded data removed]",
      "text/plain": [
       "<Figure size 1440x720 with 1 Axes>"
      ]
     },
     "metadata": {
      "needs_background": "light"
     },
     "output_type": "display_data"
    }
   ],
   "source": [
    "import matplotlib.pyplot as plt \n",
    "color = [\"Violet\",\"indigo\",\"azure\",\"black\",\"Blue\",\"lightgreen\",\"Green\",\"Yellow\",\"Orange\",\"red\",\"crimson\",\"magenta\",\"cyan\",\"grey\",\"purple\",\"brown\",\"olive\"]\n",
    "plt.figure(figsize=[20,10])\n",
    "for i in range(0,16) :\n",
    "    plt.plot(results[i,0],results[i,1],c=color[i],marker='o',markersize=12,label=alpha[i])\n",
    "plt.xlabel(\"Number of Coefficients\")\n",
    "plt.ylabel(\"Test R Square\")\n",
    "plt.title(\"Change in Test R square and number of coefficents used for different values of alpha\")\n",
    "plt.grid(b=True)\n",
    "plt.legend()"
   ]
  },
  {
   "cell_type": "markdown",
   "metadata": {},
   "source": [
    "The highest value of Test R square is observed for alpha = 10 post which the R square value starts to decrease again. Hence alpha = 10 provides the best performing model for the test set. \n",
    "\n",
    "As the value of alpha increases the error rate decreases till a certain point and then again starts to increase. Is point is the one with highest R square and the point of best alpha/model."
   ]
  },
  {
   "cell_type": "code",
   "execution_count": 31,
   "metadata": {
    "scrolled": true
   },
   "outputs": [
    {
     "name": "stdout",
     "output_type": "stream",
     "text": [
      "Alpha:  0.0001  Validation R Square:  0.5109246484421335\n",
      "Alpha:  0.001  Validation R Square:  0.5109013598795358\n",
      "Alpha:  0.01  Validation R Square:  0.5106640141684604\n",
      "Alpha:  0.01  Validation R Square:  0.5106640141684604\n",
      "Alpha:  0.1  Validation R Square:  0.5078504925228695\n",
      "Alpha:  1  Validation R Square:  0.5011291092156063\n",
      "Alpha:  5  Validation R Square:  0.4644097502349728\n",
      "Alpha:  10  Validation R Square:  0.4366073493597239\n",
      "Alpha:  15  Validation R Square:  0.4012185848679478\n",
      "Alpha:  20  Validation R Square:  0.35428644014998956\n",
      "Alpha:  25  Validation R Square:  0.29831916128349123\n",
      "Alpha:  30  Validation R Square:  0.2331230144073443\n",
      "Alpha:  35  Validation R Square:  0.15743611274666358\n",
      "Alpha:  40  Validation R Square:  0.08436514605126189\n",
      "Alpha:  45  Validation R Square:  0.024178446994995495\n",
      "Alpha:  50  Validation R Square:  -0.000808003894725573\n",
      "\n",
      "Best parameter alpha: 0.0001\n",
      "Number of parameters used: 10\n",
      "Training set R square with best parameters: 0.5063883300861198\n",
      "Test set R square with best parameters: 0.5282603529855674\n"
     ]
    }
   ],
   "source": [
    "X_train_pr, X_valid, y_train_pr, y_valid = train_test_split(X_train_scaled,y_train, random_state=1214)\n",
    "best_score = 0\n",
    "validated_results = np.zeros([16,2])\n",
    "alpha = [10**-4,10**-3,10**-2,10**-2,10**-1,1,5,10,15,20,25,30,35,40,45,50]\n",
    "for i in alpha:\n",
    "    lassox = Lasso(alpha=i).fit(X_train_pr,y_train_pr)\n",
    "    score = lassox.score(X_valid,y_valid)\n",
    "    print(\"Alpha: \",i,\" Validation R Square: \",score)\n",
    "    if score > best_score :\n",
    "        best_alpha = i\n",
    "        best_score = score\n",
    "lasso_best = Lasso(alpha=best_alpha).fit(X_train,y_train)\n",
    "train_score = lasso_best.score(X_train,y_train)\n",
    "test_score = lasso_best.score(X_test,y_test)\n",
    "print(\"\")\n",
    "print(\"Best parameter alpha:\", best_alpha)\n",
    "print(\"Number of parameters used:\", np.sum(lasso_best.coef_ != 0))\n",
    "print(\"Training set R square with best parameters:\", train_score) \n",
    "print(\"Test set R square with best parameters:\", test_score)       "
   ]
  },
  {
   "cell_type": "markdown",
   "metadata": {},
   "source": [
    "# Results:"
   ]
  },
  {
   "cell_type": "markdown",
   "metadata": {},
   "source": [
    "Lasso on Diabetes dataset from sklearn:\n",
    "\n",
    "    Training R Square:  0.3710490118794657\n",
    "    Test R Square:  0.32847652173697683\n",
    "    \n",
    "    Number of features used in the model: 4\n",
    "    \n",
    "    The features used are:\n",
    "\n",
    "    bmi\n",
    "    bp\n",
    "    s3\n",
    "    s5\n",
    "    \n",
    "Lasso on original Diabetes dataset:\n",
    "\n",
    "    Training R Square:  0.537308531659811\n",
    "    Test R Square:  0.3626403051692718\n",
    "    \n",
    "    Number of features used in the model: 10\n",
    "    \n",
    "    The features used are:\n",
    "    \n",
    "    age\n",
    "    sex\n",
    "    bmi\n",
    "    bp\n",
    "    s1\n",
    "    s2\n",
    "    s3\n",
    "    s4\n",
    "    s5\n",
    "    s6\n",
    "    \n",
    "Lasso on scaled original Dataset:\n",
    "\n",
    "    Training R Square:  0.5401388610861284\n",
    "    Test R Square:  0.3796442379645816\n",
    "    \n",
    "    Number of features used in the model: 8\n",
    "    \n",
    "    The features used are:\n",
    "    \n",
    "    sex\n",
    "    bmi\n",
    "    bp\n",
    "    s1\n",
    "    s3\n",
    "    s4\n",
    "    s5\n",
    "    s6\n"
   ]
  },
  {
   "cell_type": "code",
   "execution_count": null,
   "metadata": {},
   "outputs": [],
   "source": []
  }
 ],
 "metadata": {
  "kernelspec": {
   "display_name": "Python 3",
   "language": "python",
   "name": "python3"
  },
  "language_info": {
   "codemirror_mode": {
    "name": "ipython",
    "version": 3
   },
   "file_extension": ".py",
   "mimetype": "text/x-python",
   "name": "python",
   "nbconvert_exporter": "python",
   "pygments_lexer": "ipython3",
   "version": "3.8.5"
  }
 },
 "nbformat": 4,
 "nbformat_minor": 4
}
