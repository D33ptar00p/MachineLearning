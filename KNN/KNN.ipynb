{
 "cells": [
  {
   "cell_type": "markdown",
   "metadata": {},
   "source": [
    "# KNN Algorithm implementation "
   ]
  },
  {
   "cell_type": "code",
   "execution_count": 1,
   "metadata": {},
   "outputs": [],
   "source": [
    "#Declaring all import statements\n",
    "import numpy as np\n",
    "import math"
   ]
  },
  {
   "cell_type": "markdown",
   "metadata": {},
   "source": [
    "Below implementation of KNN algorithm is generalized and will work for all possible values of k"
   ]
  },
  {
   "cell_type": "code",
   "execution_count": 2,
   "metadata": {},
   "outputs": [],
   "source": [
    "#Function to calculate and return Euclidean Distance between two points\n",
    "#Input: arr1(numpy array), arr2(numpy array)\n",
    "def distance(arr1,arr2):\n",
    "    dist_sq=0\n",
    "    for i in range(len(arr1)):\n",
    "        dist_sq += (arr1[i] - arr2[i])**2\n",
    "    dist = np.sqrt(dist_sq)\n",
    "    return dist"
   ]
  },
  {
   "cell_type": "code",
   "execution_count": 3,
   "metadata": {},
   "outputs": [],
   "source": [
    "#Below function returns the prediction class according to k nearest neighbours using distance returned by the distance function\n",
    "#The function is generalized and will work with any value of k <= no of training sample, training set and test set passed\n",
    "#assumption to be considered that the k value passed is within 1 to no of training samples\n",
    "def predict(X_train,y_train,sample,k):\n",
    "    neighbours = np.zeros([k,2])\n",
    "    for i in range(len(X_train)):\n",
    "        d = distance(X_train[i],sample)\n",
    "        if  i < k :\n",
    "            neighbours[i][0] = i\n",
    "            neighbours[i][1] = d \n",
    "        else:\n",
    "            max_value=0\n",
    "            max_index=0\n",
    "            for j in range(k):\n",
    "                if neighbours[j][1] > max_value :\n",
    "                    max_value = neighbours[j][1]\n",
    "                    max_index = j \n",
    "            if  d < max_value :\n",
    "                neighbours[max_index][0] = i\n",
    "                neighbours[max_index][1] = d\n",
    "    predictions=[]\n",
    "    for i in range(k):\n",
    "        predictions.append(y_train[int(neighbours[i][0])]) \n",
    "    prediction = max(predictions,key=predictions.count)\n",
    "    return prediction\n",
    "\n",
    "#Below function takes training set, test set, array of samples and value of k as input and returns the class predictions \n",
    "#in form of a array \n",
    "#predicted using the predict function above which is a implementation of KNN algorithm\n",
    "#The function is generalized and will work with any value of k <= no of training sample\n",
    "#assumption to be considered that the k value passed is within 1 to no of training samples\n",
    "def knn(X_train,y_train,new_sample,k):\n",
    "    length = len(new_sample)\n",
    "    results =[]\n",
    "    for i in range(length):\n",
    "        sample = new_sample[i]\n",
    "        result = predict(X_train,y_train,sample,k)\n",
    "        results.append(result)\n",
    "    \n",
    "    return np.array(results) "
   ]
  },
  {
   "cell_type": "markdown",
   "metadata": {},
   "source": [
    "# IRIS Dataset prediction using KNN algorithm (K=1)"
   ]
  },
  {
   "cell_type": "code",
   "execution_count": 4,
   "metadata": {},
   "outputs": [],
   "source": [
    "#Loading Iris dataset\n",
    "from sklearn.datasets import load_iris\n",
    "iris_data = load_iris()"
   ]
  },
  {
   "cell_type": "code",
   "execution_count": 5,
   "metadata": {},
   "outputs": [],
   "source": [
    "#Splitting the IRIS dataset into train and test data sets using random_state\n",
    "from sklearn.model_selection import train_test_split\n",
    "Iris_X_train, Iris_X_test, Iris_y_train, Iris_y_test = train_test_split(iris_data.data, iris_data.target,random_state=100)"
   ]
  },
  {
   "cell_type": "code",
   "execution_count": 6,
   "metadata": {},
   "outputs": [
    {
     "name": "stdout",
     "output_type": "stream",
     "text": [
      "Array of predicted Labels: [2 0 2 0 2 2 0 0 2 0 0 2 0 0 2 1 1 1 2 2 2 0 2 0 1 2 1 0 1 2 1 1 1 0 0 1 0\n",
      " 1]\n",
      "\n",
      "\n",
      "The accuracy % for Nearest Neighbour applied to the IRIS dataset for K=1:  97.36842105263158 %\n",
      "Number of prediction errors:  1\n",
      "The test error rate for Nearest Neighbour applied to the IRIS dataset for K=1:  0.02631578947368421\n"
     ]
    }
   ],
   "source": [
    "#predicting the labels for X_test using knn algorithm, k=1\n",
    "iris_pred = knn(Iris_X_train,Iris_y_train,Iris_X_test,1)\n",
    "print(\"Array of predicted Labels:\",iris_pred)\n",
    "print(\"\\n\")\n",
    "\n",
    "#Calculating and printing the accuracy and test error rate\n",
    "print(\"The accuracy % for Nearest Neighbour applied to the IRIS dataset for K=1: \", (np.mean(iris_pred == Iris_y_test)*100),\"%\")\n",
    "print(\"Number of prediction errors: \",(np.sum(iris_pred != Iris_y_test)))\n",
    "print(\"The test error rate for Nearest Neighbour applied to the IRIS dataset for K=1: \", (np.mean(iris_pred != Iris_y_test)))"
   ]
  },
  {
   "cell_type": "markdown",
   "metadata": {},
   "source": [
    "# Ionosphere dataset prediction using KNN algorithm (K = 1)"
   ]
  },
  {
   "cell_type": "code",
   "execution_count": 7,
   "metadata": {},
   "outputs": [],
   "source": [
    "ion = np.genfromtxt(\"ionosphere.txt\", delimiter=\",\")\n",
    "ion[1:33]\n",
    "data = ion[:,0:34]\n",
    "target = ion[:,34]"
   ]
  },
  {
   "cell_type": "code",
   "execution_count": 8,
   "metadata": {},
   "outputs": [],
   "source": [
    "#Splitting the Ionosphere dataset to train and test data sets using random_state\n",
    "from sklearn.model_selection import train_test_split\n",
    "Ion_X_train, Ion_X_test, Ion_y_train, Ion_y_test = train_test_split(data,target,random_state=100)"
   ]
  },
  {
   "cell_type": "code",
   "execution_count": 9,
   "metadata": {},
   "outputs": [
    {
     "name": "stdout",
     "output_type": "stream",
     "text": [
      "Array of predicted Labels: [ 1.  1. -1.  1.  1. -1.  1.  1.  1. -1.  1.  1.  1.  1.  1.  1.  1.  1.\n",
      "  1. -1. -1. -1.  1.  1.  1.  1. -1.  1.  1.  1.  1.  1.  1. -1.  1.  1.\n",
      "  1.  1. -1.  1. -1.  1.  1.  1.  1.  1.  1.  1.  1.  1.  1.  1.  1.  1.\n",
      " -1.  1. -1.  1. -1.  1.  1.  1.  1.  1.  1. -1. -1.  1. -1. -1.  1.  1.\n",
      " -1. -1. -1.  1. -1.  1.  1.  1. -1.  1.  1.  1.  1.  1.  1.  1.]\n",
      "\n",
      "\n",
      "The accuracy % for Nearest Neighbour applied to the ionosphere dataset for K=1:  88.63636363636364 %\n",
      "Number of prediction errors:  10\n",
      "The test error rate for Nearest Neighbour applied to the ionosphere dataset for K=1:  0.11363636363636363\n"
     ]
    }
   ],
   "source": [
    "#predicting the labels for X_test using knn algorithm, k=1\n",
    "ion_pred = knn(Ion_X_train,Ion_y_train,Ion_X_test,1)\n",
    "print(\"Array of predicted Labels:\",ion_pred)\n",
    "print(\"\\n\")\n",
    "\n",
    "#Calculating and printing the accuracy and test error rate\n",
    "print(\"The accuracy % for Nearest Neighbour applied to the ionosphere dataset for K=1: \", (np.mean(ion_pred == Ion_y_test)*100),\"%\")\n",
    "print(\"Number of prediction errors: \",(np.sum(ion_pred != Ion_y_test)))\n",
    "print(\"The test error rate for Nearest Neighbour applied to the ionosphere dataset for K=1: \", (np.mean(ion_pred != Ion_y_test)))"
   ]
  },
  {
   "cell_type": "markdown",
   "metadata": {},
   "source": [
    "# Observations about the dataset"
   ]
  },
  {
   "cell_type": "markdown",
   "metadata": {},
   "source": [
    "There are duplicate datapoints in the IRIS dataset"
   ]
  },
  {
   "cell_type": "code",
   "execution_count": 10,
   "metadata": {},
   "outputs": [
    {
     "data": {
      "text/plain": [
       "array([5.8, 2.7, 5.1, 1.9])"
      ]
     },
     "execution_count": 10,
     "metadata": {},
     "output_type": "execute_result"
    }
   ],
   "source": [
    "iris_data.data[101]"
   ]
  },
  {
   "cell_type": "code",
   "execution_count": 11,
   "metadata": {},
   "outputs": [
    {
     "data": {
      "text/plain": [
       "array([5.8, 2.7, 5.1, 1.9])"
      ]
     },
     "execution_count": 11,
     "metadata": {},
     "output_type": "execute_result"
    }
   ],
   "source": [
    "iris_data.data[142]"
   ]
  },
  {
   "cell_type": "code",
   "execution_count": 12,
   "metadata": {},
   "outputs": [
    {
     "data": {
      "text/plain": [
       "2"
      ]
     },
     "execution_count": 12,
     "metadata": {},
     "output_type": "execute_result"
    }
   ],
   "source": [
    "iris_data.target[101]"
   ]
  },
  {
   "cell_type": "code",
   "execution_count": 13,
   "metadata": {},
   "outputs": [
    {
     "data": {
      "text/plain": [
       "2"
      ]
     },
     "execution_count": 13,
     "metadata": {},
     "output_type": "execute_result"
    }
   ],
   "source": [
    "iris_data.target[142]"
   ]
  },
  {
   "cell_type": "markdown",
   "metadata": {},
   "source": [
    "The second column in ionosphere dataset has no variations"
   ]
  },
  {
   "cell_type": "code",
   "execution_count": 14,
   "metadata": {},
   "outputs": [
    {
     "data": {
      "text/plain": [
       "array([0., 0., 0., 0., 0., 0., 0., 0., 0., 0., 0., 0., 0., 0., 0., 0., 0.,\n",
       "       0., 0., 0., 0., 0., 0., 0., 0., 0., 0., 0., 0., 0., 0., 0., 0., 0.,\n",
       "       0., 0., 0., 0., 0., 0., 0., 0., 0., 0., 0., 0., 0., 0., 0., 0., 0.,\n",
       "       0., 0., 0., 0., 0., 0., 0., 0., 0., 0., 0., 0., 0., 0., 0., 0., 0.,\n",
       "       0., 0., 0., 0., 0., 0., 0., 0., 0., 0., 0., 0., 0., 0., 0., 0., 0.,\n",
       "       0., 0., 0., 0., 0., 0., 0., 0., 0., 0., 0., 0., 0., 0., 0., 0., 0.,\n",
       "       0., 0., 0., 0., 0., 0., 0., 0., 0., 0., 0., 0., 0., 0., 0., 0., 0.,\n",
       "       0., 0., 0., 0., 0., 0., 0., 0., 0., 0., 0., 0., 0., 0., 0., 0., 0.,\n",
       "       0., 0., 0., 0., 0., 0., 0., 0., 0., 0., 0., 0., 0., 0., 0., 0., 0.,\n",
       "       0., 0., 0., 0., 0., 0., 0., 0., 0., 0., 0., 0., 0., 0., 0., 0., 0.,\n",
       "       0., 0., 0., 0., 0., 0., 0., 0., 0., 0., 0., 0., 0., 0., 0., 0., 0.,\n",
       "       0., 0., 0., 0., 0., 0., 0., 0., 0., 0., 0., 0., 0., 0., 0., 0., 0.,\n",
       "       0., 0., 0., 0., 0., 0., 0., 0., 0., 0., 0., 0., 0., 0., 0., 0., 0.,\n",
       "       0., 0., 0., 0., 0., 0., 0., 0., 0., 0., 0., 0., 0., 0., 0., 0., 0.,\n",
       "       0., 0., 0., 0., 0., 0., 0., 0., 0., 0., 0., 0., 0., 0., 0., 0., 0.,\n",
       "       0., 0., 0., 0., 0., 0., 0., 0., 0., 0., 0., 0., 0., 0., 0., 0., 0.,\n",
       "       0., 0., 0., 0., 0., 0., 0., 0., 0., 0., 0., 0., 0., 0., 0., 0., 0.,\n",
       "       0., 0., 0., 0., 0., 0., 0., 0., 0., 0., 0., 0., 0., 0., 0., 0., 0.,\n",
       "       0., 0., 0., 0., 0., 0., 0., 0., 0., 0., 0., 0., 0., 0., 0., 0., 0.,\n",
       "       0., 0., 0., 0., 0., 0., 0., 0., 0., 0., 0., 0., 0., 0., 0., 0., 0.,\n",
       "       0., 0., 0., 0., 0., 0., 0., 0., 0., 0., 0.])"
      ]
     },
     "execution_count": 14,
     "metadata": {},
     "output_type": "execute_result"
    }
   ],
   "source": [
    "ion[:,1]"
   ]
  },
  {
   "cell_type": "markdown",
   "metadata": {},
   "source": [
    "# Results at a glance"
   ]
  },
  {
   "cell_type": "markdown",
   "metadata": {},
   "source": [
    "– the test error rate for Nearest Neighbour applied to the iris dataset: 0.05263157894736842\n",
    "\n",
    "– the test error rate for Nearest Neighbour applied to ionosphere.txt: 0.125"
   ]
  },
  {
   "cell_type": "markdown",
   "metadata": {},
   "source": [
    "# References"
   ]
  },
  {
   "cell_type": "markdown",
   "metadata": {},
   "source": [
    "1. https://scikit-learn.org/stable/index.html    \n",
    "\n",
    "2. https://numpy.org/doc/stable/\n",
    "\n",
    "3. https://docs.python.org/3/library/math.html"
   ]
  },
  {
   "cell_type": "code",
   "execution_count": null,
   "metadata": {},
   "outputs": [],
   "source": []
  }
 ],
 "metadata": {
  "kernelspec": {
   "display_name": "Python 3",
   "language": "python",
   "name": "python3"
  },
  "language_info": {
   "codemirror_mode": {
    "name": "ipython",
    "version": 3
   },
   "file_extension": ".py",
   "mimetype": "text/x-python",
   "name": "python",
   "nbconvert_exporter": "python",
   "pygments_lexer": "ipython3",
   "version": "3.8.5"
  }
 },
 "nbformat": 4,
 "nbformat_minor": 4
}
